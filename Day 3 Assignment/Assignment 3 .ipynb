{
 "cells": [
  {
   "cell_type": "markdown",
   "metadata": {},
   "source": [
    "Question 1:\n",
    "\n",
    "Answer:"
   ]
  },
  {
   "cell_type": "code",
   "execution_count": 1,
   "metadata": {},
   "outputs": [
    {
     "name": "stdout",
     "output_type": "stream",
     "text": [
      "[ 2  5  8 11 14 17 20 23 26 29 32 35 38 41 44 47]\n"
     ]
    }
   ],
   "source": [
    "import numpy as np\n",
    "npArr=np.arange(2,50,3)\n",
    "print(npArr)`"
   ]
  },
  {
   "cell_type": "markdown",
   "metadata": {},
   "source": [
    "Question 2:\n",
    "\n",
    "Answer:"
   ]
  },
  {
   "cell_type": "code",
   "execution_count": 5,
   "metadata": {},
   "outputs": [
    {
     "name": "stdout",
     "output_type": "stream",
     "text": [
      "10\n",
      "2\n",
      "3\n",
      "1\n",
      "4\n",
      "5\n",
      "8\n",
      "9\n",
      "7\n",
      "6\n",
      "[ 1  2  3  4  5  6  7  8  9 10]\n"
     ]
    }
   ],
   "source": [
    "a=np.array([int(input()) for i in range(5)])\n",
    "b=np.array([int(input()) for i in range(5)])\n",
    "print(np.sort(np.concatenate((a,b))))"
   ]
  },
  {
   "cell_type": "markdown",
   "metadata": {},
   "source": [
    "Question 3:\n",
    "\n",
    "Answer:"
   ]
  },
  {
   "cell_type": "code",
   "execution_count": 6,
   "metadata": {},
   "outputs": [
    {
     "name": "stdout",
     "output_type": "stream",
     "text": [
      "1\n",
      "6\n"
     ]
    }
   ],
   "source": [
    "npArr=np.array([1,2,3,4,5,6])\n",
    "print(npArr.ndim)\n",
    "print(npArr.size)"
   ]
  },
  {
   "cell_type": "markdown",
   "metadata": {},
   "source": [
    "Question 4:\n",
    "\n",
    "Answer:Here we have made use np.newaxis.\n"
   ]
  },
  {
   "cell_type": "code",
   "execution_count": 11,
   "metadata": {},
   "outputs": [
    {
     "name": "stdout",
     "output_type": "stream",
     "text": [
      "[1 2 3 4 5 6 7]\n",
      "(7,)\n",
      "[[1]\n",
      " [2]\n",
      " [3]\n",
      " [4]\n",
      " [5]\n",
      " [6]\n",
      " [7]]\n",
      "(7, 1)\n",
      "[[1 2 3 4 5 6 7]]\n",
      "(1, 7)\n"
     ]
    }
   ],
   "source": [
    "npArr = np.array([1,2,3,4,5,6,7])\n",
    "print(npArr)\n",
    "print(npArr.shape)\n",
    "npArr1=npArr[:, np.newaxis]\n",
    "print(npArr1)\n",
    "print(npArr1.shape)\n",
    "npArr2 = npArr[np.newaxis,:]\n",
    "print(npArr2)\n",
    "print(npArr2.shape)"
   ]
  },
  {
   "cell_type": "markdown",
   "metadata": {},
   "source": [
    "Here I have made use of np.expand_dims"
   ]
  },
  {
   "cell_type": "code",
   "execution_count": 17,
   "metadata": {},
   "outputs": [
    {
     "name": "stdout",
     "output_type": "stream",
     "text": [
      "[[0. 0. 0. 0.]\n",
      " [0. 0. 0. 0.]\n",
      " [0. 0. 0. 0.]]\n",
      "(3, 4)\n",
      "[[[0. 0. 0. 0.]]\n",
      "\n",
      " [[0. 0. 0. 0.]]\n",
      "\n",
      " [[0. 0. 0. 0.]]]\n",
      "(3, 1, 4)\n"
     ]
    }
   ],
   "source": [
    "import numpy as np\n",
    "x = np.zeros((3, 4))\n",
    "print(x)\n",
    "print(x.shape)\n",
    "y = np.expand_dims(x, axis=1) \n",
    "print(y) \n",
    "print(y.shape)"
   ]
  },
  {
   "cell_type": "markdown",
   "metadata": {},
   "source": [
    "Question 5:\n",
    "\n",
    "Answer:"
   ]
  },
  {
   "cell_type": "code",
   "execution_count": 25,
   "metadata": {},
   "outputs": [
    {
     "name": "stdout",
     "output_type": "stream",
     "text": [
      "Horziontal stack\n",
      "[[ 1  2  3  7  8  9]\n",
      " [ 4  5  6 10 11 12]]\n",
      "Vertical stack\n",
      "[[ 1  2  3]\n",
      " [ 4  5  6]\n",
      " [ 7  8  9]\n",
      " [10 11 12]]\n"
     ]
    }
   ],
   "source": [
    "f = np.array([[1,2,3],[4,5,6]])\n",
    "g = np.array([[7,8,9],[10,11,12]])\n",
    "\n",
    "print(\"Horziontal stack\")\n",
    "print(np.hstack((f, g)))\n",
    "print(\"Vertical stack\")\n",
    "print(np.vstack((f, g)))"
   ]
  },
  {
   "cell_type": "markdown",
   "metadata": {},
   "source": [
    "Question 6:\n",
    "\n",
    "Answer:Python's numpy library has np.unique funciton which returns the sorted unique elements and their frequency. Below I have made use of this."
   ]
  },
  {
   "cell_type": "code",
   "execution_count": 31,
   "metadata": {},
   "outputs": [
    {
     "name": "stdout",
     "output_type": "stream",
     "text": [
      "unique elements are:  [  0   1   2   3   4   5   7  67  81  89 200 800]\n",
      "Their frequcency is: [1 4 2 2 2 1 1 1 1 1 2 1]\n"
     ]
    }
   ],
   "source": [
    "npArr = np.array([1,1,1,1,3,3,2,2,4,5,67,89,800,0,200,200,4,81,7])\n",
    "u,c =np.unique(npArr,return_counts=True)\n",
    "print('unique elements are: ',u)\n",
    "print('Their frequcency is:',c) "
   ]
  }
 ],
 "metadata": {
  "kernelspec": {
   "display_name": "Python 3",
   "language": "python",
   "name": "python3"
  },
  "language_info": {
   "codemirror_mode": {
    "name": "ipython",
    "version": 3
   },
   "file_extension": ".py",
   "mimetype": "text/x-python",
   "name": "python",
   "nbconvert_exporter": "python",
   "pygments_lexer": "ipython3",
   "version": "3.8.3"
  }
 },
 "nbformat": 4,
 "nbformat_minor": 4
}
