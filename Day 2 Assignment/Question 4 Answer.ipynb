{
 "cells": [
  {
   "cell_type": "markdown",
   "metadata": {},
   "source": [
    "Question 4:\n",
    "\n",
    "Answer:Here I have made some assumptions\n",
    "1. The input directions are only gone be right, left, up and down.\n",
    "2. The step are only gone be whole numbers\n",
    "3. The direction and steps when given as input are separated by a space."
   ]
  },
  {
   "cell_type": "code",
   "execution_count": 1,
   "metadata": {},
   "outputs": [
    {
     "name": "stdout",
     "output_type": "stream",
     "text": [
      "4\n",
      "UP 5\n",
      "DOWN 3\n",
      "LEFT 3\n",
      "RIGHT 2\n",
      "2\n"
     ]
    }
   ],
   "source": [
    "n= int(input())\n",
    "y=0\n",
    "x=0\n",
    "i=0\n",
    "while i<n:\n",
    "    i=i+1\n",
    "    str=input()\n",
    "    str=str.upper()\n",
    "    str1=str.split(' ')[0]\n",
    "    a=len(str1)+1\n",
    "    b=int(str[a:])\n",
    "    if str1=='UP':\n",
    "        y=y+b\n",
    "    elif str1=='DOWN':\n",
    "        y=y-b\n",
    "    elif str1=='RIGHT':\n",
    "        x=x+b\n",
    "    elif str1=='LEFT':\n",
    "        x=x-b\n",
    "z=(x*x)+(y*y)\n",
    "z=pow(z,.5)\n",
    "z=round(z)\n",
    "print(z)"
   ]
  }
 ],
 "metadata": {
  "kernelspec": {
   "display_name": "Python 3",
   "language": "python",
   "name": "python3"
  },
  "language_info": {
   "codemirror_mode": {
    "name": "ipython",
    "version": 3
   },
   "file_extension": ".py",
   "mimetype": "text/x-python",
   "name": "python",
   "nbconvert_exporter": "python",
   "pygments_lexer": "ipython3",
   "version": "3.8.3"
  }
 },
 "nbformat": 4,
 "nbformat_minor": 4
}
