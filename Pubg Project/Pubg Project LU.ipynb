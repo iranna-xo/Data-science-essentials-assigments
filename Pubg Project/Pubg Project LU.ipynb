{
  "nbformat": 4,
  "nbformat_minor": 0,
  "metadata": {
    "colab": {
      "name": "Copy of Project.ipynb",
      "provenance": [],
      "collapsed_sections": []
    },
    "kernelspec": {
      "name": "python3",
      "display_name": "Python 3"
    }
  },
  "cells": [
    {
      "cell_type": "markdown",
      "metadata": {
        "id": "kycGEBDa97RT"
      },
      "source": [
        "**PlayerUnknown's BattleGrounds (PUBG) project**"
      ]
    },
    {
      "cell_type": "markdown",
      "metadata": {
        "id": "jCp_ZvSM_BEd"
      },
      "source": [
        "***Tasks to be performed:*** \n"
      ]
    },
    {
      "cell_type": "markdown",
      "metadata": {
        "id": "0tSKedO6_GWr"
      },
      "source": [
        "1. Read the dataset.\n",
        "\n"
      ]
    },
    {
      "cell_type": "code",
      "metadata": {
        "id": "efkm22Jj9zIO",
        "outputId": "63792338-274f-4e14-b1a3-d3f151f89f0e",
        "colab": {
          "base_uri": "https://localhost:8080/",
          "height": 444
        }
      },
      "source": [
        "import pandas as pd\n",
        "path ='https://github.com/iranna-xo/Data-science-essentials-assigments/blob/main/Pubg%20Project/pubg%20-%20Dr.%20Darshan%20Ingle.csv'\n",
        "data = pd.read_csv(path)\n",
        "data\n"
      ],
      "execution_count": null,
      "outputs": [
        {
          "output_type": "execute_result",
          "data": {
            "text/html": [
              "<div>\n",
              "<style scoped>\n",
              "    .dataframe tbody tr th:only-of-type {\n",
              "        vertical-align: middle;\n",
              "    }\n",
              "\n",
              "    .dataframe tbody tr th {\n",
              "        vertical-align: top;\n",
              "    }\n",
              "\n",
              "    .dataframe thead th {\n",
              "        text-align: right;\n",
              "    }\n",
              "</style>\n",
              "<table border=\"1\" class=\"dataframe\">\n",
              "  <thead>\n",
              "    <tr style=\"text-align: right;\">\n",
              "      <th></th>\n",
              "      <th>Id</th>\n",
              "      <th>groupId</th>\n",
              "      <th>matchId</th>\n",
              "      <th>assists</th>\n",
              "      <th>boosts</th>\n",
              "      <th>damageDealt</th>\n",
              "      <th>DBNOs</th>\n",
              "      <th>headshotKills</th>\n",
              "      <th>heals</th>\n",
              "      <th>killPlace</th>\n",
              "      <th>killPoints</th>\n",
              "      <th>kills</th>\n",
              "      <th>killStreaks</th>\n",
              "      <th>longestKill</th>\n",
              "      <th>matchDuration</th>\n",
              "      <th>matchType</th>\n",
              "      <th>maxPlace</th>\n",
              "      <th>numGroups</th>\n",
              "      <th>rankPoints</th>\n",
              "      <th>revives</th>\n",
              "      <th>rideDistance</th>\n",
              "      <th>roadKills</th>\n",
              "      <th>swimDistance</th>\n",
              "      <th>teamKills</th>\n",
              "      <th>vehicleDestroys</th>\n",
              "      <th>walkDistance</th>\n",
              "      <th>weaponsAcquired</th>\n",
              "      <th>winPoints</th>\n",
              "      <th>winPlacePerc</th>\n",
              "    </tr>\n",
              "  </thead>\n",
              "  <tbody>\n",
              "    <tr>\n",
              "      <th>0</th>\n",
              "      <td>2f262dd9795e60</td>\n",
              "      <td>78437bcd91d40e</td>\n",
              "      <td>d5db3a49eb2955</td>\n",
              "      <td>0</td>\n",
              "      <td>0</td>\n",
              "      <td>0.0</td>\n",
              "      <td>0</td>\n",
              "      <td>0</td>\n",
              "      <td>0</td>\n",
              "      <td>92</td>\n",
              "      <td>1126</td>\n",
              "      <td>0</td>\n",
              "      <td>0</td>\n",
              "      <td>0.000</td>\n",
              "      <td>1376</td>\n",
              "      <td>squad-fpp</td>\n",
              "      <td>29</td>\n",
              "      <td>28</td>\n",
              "      <td>-1</td>\n",
              "      <td>0</td>\n",
              "      <td>0.0</td>\n",
              "      <td>0</td>\n",
              "      <td>0.0</td>\n",
              "      <td>0</td>\n",
              "      <td>0</td>\n",
              "      <td>0.00</td>\n",
              "      <td>0</td>\n",
              "      <td>1470</td>\n",
              "      <td>0.0000</td>\n",
              "    </tr>\n",
              "    <tr>\n",
              "      <th>1</th>\n",
              "      <td>a32847cf5bf34b</td>\n",
              "      <td>85b7ce5a12e10b</td>\n",
              "      <td>65223f05c7fdb4</td>\n",
              "      <td>0</td>\n",
              "      <td>0</td>\n",
              "      <td>163.2</td>\n",
              "      <td>1</td>\n",
              "      <td>1</td>\n",
              "      <td>0</td>\n",
              "      <td>42</td>\n",
              "      <td>1309</td>\n",
              "      <td>1</td>\n",
              "      <td>1</td>\n",
              "      <td>6.589</td>\n",
              "      <td>1370</td>\n",
              "      <td>squad-fpp</td>\n",
              "      <td>28</td>\n",
              "      <td>28</td>\n",
              "      <td>-1</td>\n",
              "      <td>0</td>\n",
              "      <td>0.0</td>\n",
              "      <td>0</td>\n",
              "      <td>0.0</td>\n",
              "      <td>0</td>\n",
              "      <td>0</td>\n",
              "      <td>132.70</td>\n",
              "      <td>2</td>\n",
              "      <td>1531</td>\n",
              "      <td>0.2222</td>\n",
              "    </tr>\n",
              "    <tr>\n",
              "      <th>2</th>\n",
              "      <td>1b1900a9990396</td>\n",
              "      <td>edf80d6523380a</td>\n",
              "      <td>1cadec4534f30a</td>\n",
              "      <td>0</td>\n",
              "      <td>3</td>\n",
              "      <td>278.7</td>\n",
              "      <td>2</td>\n",
              "      <td>1</td>\n",
              "      <td>8</td>\n",
              "      <td>16</td>\n",
              "      <td>0</td>\n",
              "      <td>2</td>\n",
              "      <td>1</td>\n",
              "      <td>23.070</td>\n",
              "      <td>1381</td>\n",
              "      <td>squad-fpp</td>\n",
              "      <td>29</td>\n",
              "      <td>27</td>\n",
              "      <td>1479</td>\n",
              "      <td>3</td>\n",
              "      <td>0.0</td>\n",
              "      <td>0</td>\n",
              "      <td>0.0</td>\n",
              "      <td>0</td>\n",
              "      <td>0</td>\n",
              "      <td>3591.00</td>\n",
              "      <td>10</td>\n",
              "      <td>0</td>\n",
              "      <td>0.8571</td>\n",
              "    </tr>\n",
              "    <tr>\n",
              "      <th>3</th>\n",
              "      <td>f589dd03b60bf2</td>\n",
              "      <td>804ab5e5585558</td>\n",
              "      <td>c4a5676dc91604</td>\n",
              "      <td>0</td>\n",
              "      <td>0</td>\n",
              "      <td>191.9</td>\n",
              "      <td>1</td>\n",
              "      <td>0</td>\n",
              "      <td>0</td>\n",
              "      <td>31</td>\n",
              "      <td>0</td>\n",
              "      <td>1</td>\n",
              "      <td>1</td>\n",
              "      <td>24.890</td>\n",
              "      <td>1708</td>\n",
              "      <td>squad</td>\n",
              "      <td>27</td>\n",
              "      <td>25</td>\n",
              "      <td>1500</td>\n",
              "      <td>0</td>\n",
              "      <td>0.0</td>\n",
              "      <td>0</td>\n",
              "      <td>0.0</td>\n",
              "      <td>0</td>\n",
              "      <td>0</td>\n",
              "      <td>332.70</td>\n",
              "      <td>3</td>\n",
              "      <td>0</td>\n",
              "      <td>0.3462</td>\n",
              "    </tr>\n",
              "    <tr>\n",
              "      <th>4</th>\n",
              "      <td>c23c4cc5b78b35</td>\n",
              "      <td>b3e2cd169ed920</td>\n",
              "      <td>cd595700a01bfa</td>\n",
              "      <td>0</td>\n",
              "      <td>0</td>\n",
              "      <td>100.0</td>\n",
              "      <td>1</td>\n",
              "      <td>0</td>\n",
              "      <td>0</td>\n",
              "      <td>87</td>\n",
              "      <td>1332</td>\n",
              "      <td>0</td>\n",
              "      <td>0</td>\n",
              "      <td>0.000</td>\n",
              "      <td>1807</td>\n",
              "      <td>squad-fpp</td>\n",
              "      <td>30</td>\n",
              "      <td>30</td>\n",
              "      <td>-1</td>\n",
              "      <td>0</td>\n",
              "      <td>0.0</td>\n",
              "      <td>0</td>\n",
              "      <td>0.0</td>\n",
              "      <td>0</td>\n",
              "      <td>0</td>\n",
              "      <td>252.70</td>\n",
              "      <td>3</td>\n",
              "      <td>1557</td>\n",
              "      <td>0.0690</td>\n",
              "    </tr>\n",
              "    <tr>\n",
              "      <th>...</th>\n",
              "      <td>...</td>\n",
              "      <td>...</td>\n",
              "      <td>...</td>\n",
              "      <td>...</td>\n",
              "      <td>...</td>\n",
              "      <td>...</td>\n",
              "      <td>...</td>\n",
              "      <td>...</td>\n",
              "      <td>...</td>\n",
              "      <td>...</td>\n",
              "      <td>...</td>\n",
              "      <td>...</td>\n",
              "      <td>...</td>\n",
              "      <td>...</td>\n",
              "      <td>...</td>\n",
              "      <td>...</td>\n",
              "      <td>...</td>\n",
              "      <td>...</td>\n",
              "      <td>...</td>\n",
              "      <td>...</td>\n",
              "      <td>...</td>\n",
              "      <td>...</td>\n",
              "      <td>...</td>\n",
              "      <td>...</td>\n",
              "      <td>...</td>\n",
              "      <td>...</td>\n",
              "      <td>...</td>\n",
              "      <td>...</td>\n",
              "      <td>...</td>\n",
              "    </tr>\n",
              "    <tr>\n",
              "      <th>9995</th>\n",
              "      <td>ef4f474acd8e85</td>\n",
              "      <td>2eca2a8391f75d</td>\n",
              "      <td>492ecdfae90b46</td>\n",
              "      <td>0</td>\n",
              "      <td>3</td>\n",
              "      <td>204.5</td>\n",
              "      <td>1</td>\n",
              "      <td>0</td>\n",
              "      <td>0</td>\n",
              "      <td>17</td>\n",
              "      <td>1033</td>\n",
              "      <td>2</td>\n",
              "      <td>1</td>\n",
              "      <td>13.270</td>\n",
              "      <td>1288</td>\n",
              "      <td>squad-fpp</td>\n",
              "      <td>31</td>\n",
              "      <td>30</td>\n",
              "      <td>-1</td>\n",
              "      <td>3</td>\n",
              "      <td>0.0</td>\n",
              "      <td>0</td>\n",
              "      <td>0.0</td>\n",
              "      <td>0</td>\n",
              "      <td>0</td>\n",
              "      <td>1648.00</td>\n",
              "      <td>4</td>\n",
              "      <td>1471</td>\n",
              "      <td>0.8333</td>\n",
              "    </tr>\n",
              "    <tr>\n",
              "      <th>9996</th>\n",
              "      <td>cf0bf82fb4d80e</td>\n",
              "      <td>2eaf2765f93adb</td>\n",
              "      <td>14bffd71e96320</td>\n",
              "      <td>0</td>\n",
              "      <td>0</td>\n",
              "      <td>0.0</td>\n",
              "      <td>0</td>\n",
              "      <td>0</td>\n",
              "      <td>0</td>\n",
              "      <td>49</td>\n",
              "      <td>1000</td>\n",
              "      <td>0</td>\n",
              "      <td>0</td>\n",
              "      <td>0.000</td>\n",
              "      <td>1906</td>\n",
              "      <td>duo-fpp</td>\n",
              "      <td>47</td>\n",
              "      <td>44</td>\n",
              "      <td>-1</td>\n",
              "      <td>0</td>\n",
              "      <td>0.0</td>\n",
              "      <td>0</td>\n",
              "      <td>0.0</td>\n",
              "      <td>0</td>\n",
              "      <td>0</td>\n",
              "      <td>897.10</td>\n",
              "      <td>6</td>\n",
              "      <td>1500</td>\n",
              "      <td>0.7174</td>\n",
              "    </tr>\n",
              "    <tr>\n",
              "      <th>9997</th>\n",
              "      <td>a0a31a0b1dcbe1</td>\n",
              "      <td>8d50c64ccc5071</td>\n",
              "      <td>147e4bbb62e3bb</td>\n",
              "      <td>0</td>\n",
              "      <td>0</td>\n",
              "      <td>0.0</td>\n",
              "      <td>0</td>\n",
              "      <td>0</td>\n",
              "      <td>0</td>\n",
              "      <td>83</td>\n",
              "      <td>1334</td>\n",
              "      <td>0</td>\n",
              "      <td>0</td>\n",
              "      <td>0.000</td>\n",
              "      <td>1344</td>\n",
              "      <td>duo-fpp</td>\n",
              "      <td>49</td>\n",
              "      <td>49</td>\n",
              "      <td>-1</td>\n",
              "      <td>0</td>\n",
              "      <td>0.0</td>\n",
              "      <td>0</td>\n",
              "      <td>0.0</td>\n",
              "      <td>0</td>\n",
              "      <td>0</td>\n",
              "      <td>188.20</td>\n",
              "      <td>2</td>\n",
              "      <td>1434</td>\n",
              "      <td>0.2083</td>\n",
              "    </tr>\n",
              "    <tr>\n",
              "      <th>9998</th>\n",
              "      <td>f6874657399d69</td>\n",
              "      <td>d31843d7e62ccb</td>\n",
              "      <td>662567dcf280f5</td>\n",
              "      <td>0</td>\n",
              "      <td>0</td>\n",
              "      <td>0.0</td>\n",
              "      <td>0</td>\n",
              "      <td>0</td>\n",
              "      <td>0</td>\n",
              "      <td>82</td>\n",
              "      <td>1335</td>\n",
              "      <td>0</td>\n",
              "      <td>0</td>\n",
              "      <td>0.000</td>\n",
              "      <td>1355</td>\n",
              "      <td>duo-fpp</td>\n",
              "      <td>50</td>\n",
              "      <td>50</td>\n",
              "      <td>-1</td>\n",
              "      <td>0</td>\n",
              "      <td>0.0</td>\n",
              "      <td>0</td>\n",
              "      <td>0.0</td>\n",
              "      <td>0</td>\n",
              "      <td>0</td>\n",
              "      <td>108.10</td>\n",
              "      <td>5</td>\n",
              "      <td>1534</td>\n",
              "      <td>0.2449</td>\n",
              "    </tr>\n",
              "    <tr>\n",
              "      <th>9999</th>\n",
              "      <td>90359b0b8f8b0d</td>\n",
              "      <td>61d5b1bb8da43f</td>\n",
              "      <td>258bfa48d88014</td>\n",
              "      <td>0</td>\n",
              "      <td>0</td>\n",
              "      <td>0.0</td>\n",
              "      <td>0</td>\n",
              "      <td>0</td>\n",
              "      <td>0</td>\n",
              "      <td>78</td>\n",
              "      <td>0</td>\n",
              "      <td>0</td>\n",
              "      <td>0</td>\n",
              "      <td>0.000</td>\n",
              "      <td>1416</td>\n",
              "      <td>solo</td>\n",
              "      <td>97</td>\n",
              "      <td>93</td>\n",
              "      <td>1511</td>\n",
              "      <td>0</td>\n",
              "      <td>0.0</td>\n",
              "      <td>0</td>\n",
              "      <td>0.0</td>\n",
              "      <td>0</td>\n",
              "      <td>0</td>\n",
              "      <td>53.36</td>\n",
              "      <td>1</td>\n",
              "      <td>0</td>\n",
              "      <td>0.1875</td>\n",
              "    </tr>\n",
              "  </tbody>\n",
              "</table>\n",
              "<p>10000 rows × 29 columns</p>\n",
              "</div>"
            ],
            "text/plain": [
              "                  Id         groupId  ... winPoints  winPlacePerc\n",
              "0     2f262dd9795e60  78437bcd91d40e  ...      1470        0.0000\n",
              "1     a32847cf5bf34b  85b7ce5a12e10b  ...      1531        0.2222\n",
              "2     1b1900a9990396  edf80d6523380a  ...         0        0.8571\n",
              "3     f589dd03b60bf2  804ab5e5585558  ...         0        0.3462\n",
              "4     c23c4cc5b78b35  b3e2cd169ed920  ...      1557        0.0690\n",
              "...              ...             ...  ...       ...           ...\n",
              "9995  ef4f474acd8e85  2eca2a8391f75d  ...      1471        0.8333\n",
              "9996  cf0bf82fb4d80e  2eaf2765f93adb  ...      1500        0.7174\n",
              "9997  a0a31a0b1dcbe1  8d50c64ccc5071  ...      1434        0.2083\n",
              "9998  f6874657399d69  d31843d7e62ccb  ...      1534        0.2449\n",
              "9999  90359b0b8f8b0d  61d5b1bb8da43f  ...         0        0.1875\n",
              "\n",
              "[10000 rows x 29 columns]"
            ]
          },
          "metadata": {
            "tags": []
          },
          "execution_count": 2
        }
      ]
    },
    {
      "cell_type": "markdown",
      "metadata": {
        "id": "JOfvfXU-_cOq"
      },
      "source": [
        "2. Check the datatype of all the columns."
      ]
    },
    {
      "cell_type": "code",
      "metadata": {
        "id": "vytsUNOQ_gmo",
        "outputId": "ba47b03d-7ab7-4f8e-b893-5c0f99ce28f8",
        "colab": {
          "base_uri": "https://localhost:8080/"
        }
      },
      "source": [
        "print(data.dtypes)"
      ],
      "execution_count": null,
      "outputs": [
        {
          "output_type": "stream",
          "text": [
            "Id                  object\n",
            "groupId             object\n",
            "matchId             object\n",
            "assists              int64\n",
            "boosts               int64\n",
            "damageDealt        float64\n",
            "DBNOs                int64\n",
            "headshotKills        int64\n",
            "heals                int64\n",
            "killPlace            int64\n",
            "killPoints           int64\n",
            "kills                int64\n",
            "killStreaks          int64\n",
            "longestKill        float64\n",
            "matchDuration        int64\n",
            "matchType           object\n",
            "maxPlace             int64\n",
            "numGroups            int64\n",
            "rankPoints           int64\n",
            "revives              int64\n",
            "rideDistance       float64\n",
            "roadKills            int64\n",
            "swimDistance       float64\n",
            "teamKills            int64\n",
            "vehicleDestroys      int64\n",
            "walkDistance       float64\n",
            "weaponsAcquired      int64\n",
            "winPoints            int64\n",
            "winPlacePerc       float64\n",
            "dtype: object\n"
          ],
          "name": "stdout"
        }
      ]
    },
    {
      "cell_type": "markdown",
      "metadata": {
        "id": "LcN8EegxAIPm"
      },
      "source": [
        "3. Find the summary of all the numerical columns and write your findings about it."
      ]
    },
    {
      "cell_type": "code",
      "metadata": {
        "id": "dZnEFe-aALG7",
        "outputId": "0f78c5ad-b14f-4317-c338-dc5e8ad97b36",
        "colab": {
          "base_uri": "https://localhost:8080/",
          "height": 338
        }
      },
      "source": [
        "print(data.shape)\n",
        "data.describe()"
      ],
      "execution_count": null,
      "outputs": [
        {
          "output_type": "stream",
          "text": [
            "(10000, 29)\n"
          ],
          "name": "stdout"
        },
        {
          "output_type": "execute_result",
          "data": {
            "text/html": [
              "<div>\n",
              "<style scoped>\n",
              "    .dataframe tbody tr th:only-of-type {\n",
              "        vertical-align: middle;\n",
              "    }\n",
              "\n",
              "    .dataframe tbody tr th {\n",
              "        vertical-align: top;\n",
              "    }\n",
              "\n",
              "    .dataframe thead th {\n",
              "        text-align: right;\n",
              "    }\n",
              "</style>\n",
              "<table border=\"1\" class=\"dataframe\">\n",
              "  <thead>\n",
              "    <tr style=\"text-align: right;\">\n",
              "      <th></th>\n",
              "      <th>assists</th>\n",
              "      <th>boosts</th>\n",
              "      <th>damageDealt</th>\n",
              "      <th>DBNOs</th>\n",
              "      <th>headshotKills</th>\n",
              "      <th>heals</th>\n",
              "      <th>killPlace</th>\n",
              "      <th>killPoints</th>\n",
              "      <th>kills</th>\n",
              "      <th>killStreaks</th>\n",
              "      <th>longestKill</th>\n",
              "      <th>matchDuration</th>\n",
              "      <th>maxPlace</th>\n",
              "      <th>numGroups</th>\n",
              "      <th>rankPoints</th>\n",
              "      <th>revives</th>\n",
              "      <th>rideDistance</th>\n",
              "      <th>roadKills</th>\n",
              "      <th>swimDistance</th>\n",
              "      <th>teamKills</th>\n",
              "      <th>vehicleDestroys</th>\n",
              "      <th>walkDistance</th>\n",
              "      <th>weaponsAcquired</th>\n",
              "      <th>winPoints</th>\n",
              "      <th>winPlacePerc</th>\n",
              "    </tr>\n",
              "  </thead>\n",
              "  <tbody>\n",
              "    <tr>\n",
              "      <th>count</th>\n",
              "      <td>10000.000000</td>\n",
              "      <td>10000.000000</td>\n",
              "      <td>10000.000000</td>\n",
              "      <td>10000.00000</td>\n",
              "      <td>10000.000000</td>\n",
              "      <td>10000.000000</td>\n",
              "      <td>10000.000000</td>\n",
              "      <td>10000.000000</td>\n",
              "      <td>10000.000000</td>\n",
              "      <td>10000.000000</td>\n",
              "      <td>10000.000000</td>\n",
              "      <td>10000.000000</td>\n",
              "      <td>10000.000000</td>\n",
              "      <td>10000.000000</td>\n",
              "      <td>10000.000000</td>\n",
              "      <td>10000.000000</td>\n",
              "      <td>10000.000000</td>\n",
              "      <td>10000.000000</td>\n",
              "      <td>10000.000000</td>\n",
              "      <td>10000.000000</td>\n",
              "      <td>10000.000000</td>\n",
              "      <td>10000.000000</td>\n",
              "      <td>10000.00000</td>\n",
              "      <td>10000.0000</td>\n",
              "      <td>10000.000000</td>\n",
              "    </tr>\n",
              "    <tr>\n",
              "      <th>mean</th>\n",
              "      <td>0.234600</td>\n",
              "      <td>1.088500</td>\n",
              "      <td>129.211264</td>\n",
              "      <td>0.64400</td>\n",
              "      <td>0.221700</td>\n",
              "      <td>1.354000</td>\n",
              "      <td>47.663100</td>\n",
              "      <td>506.970200</td>\n",
              "      <td>0.913400</td>\n",
              "      <td>0.543800</td>\n",
              "      <td>23.272333</td>\n",
              "      <td>1575.398000</td>\n",
              "      <td>44.655500</td>\n",
              "      <td>43.151300</td>\n",
              "      <td>889.699600</td>\n",
              "      <td>0.160200</td>\n",
              "      <td>600.693584</td>\n",
              "      <td>0.004200</td>\n",
              "      <td>4.385917</td>\n",
              "      <td>0.024400</td>\n",
              "      <td>0.007700</td>\n",
              "      <td>1130.008410</td>\n",
              "      <td>3.63590</td>\n",
              "      <td>609.3440</td>\n",
              "      <td>0.469926</td>\n",
              "    </tr>\n",
              "    <tr>\n",
              "      <th>std</th>\n",
              "      <td>0.575149</td>\n",
              "      <td>1.703279</td>\n",
              "      <td>167.193945</td>\n",
              "      <td>1.09562</td>\n",
              "      <td>0.577046</td>\n",
              "      <td>2.629102</td>\n",
              "      <td>27.424146</td>\n",
              "      <td>627.297959</td>\n",
              "      <td>1.524117</td>\n",
              "      <td>0.701948</td>\n",
              "      <td>50.536262</td>\n",
              "      <td>258.963515</td>\n",
              "      <td>23.800859</td>\n",
              "      <td>23.272567</td>\n",
              "      <td>738.535034</td>\n",
              "      <td>0.454045</td>\n",
              "      <td>1524.915601</td>\n",
              "      <td>0.074719</td>\n",
              "      <td>30.889620</td>\n",
              "      <td>0.171486</td>\n",
              "      <td>0.089674</td>\n",
              "      <td>1168.597983</td>\n",
              "      <td>2.42209</td>\n",
              "      <td>739.7924</td>\n",
              "      <td>0.304508</td>\n",
              "    </tr>\n",
              "    <tr>\n",
              "      <th>min</th>\n",
              "      <td>0.000000</td>\n",
              "      <td>0.000000</td>\n",
              "      <td>0.000000</td>\n",
              "      <td>0.00000</td>\n",
              "      <td>0.000000</td>\n",
              "      <td>0.000000</td>\n",
              "      <td>1.000000</td>\n",
              "      <td>0.000000</td>\n",
              "      <td>0.000000</td>\n",
              "      <td>0.000000</td>\n",
              "      <td>0.000000</td>\n",
              "      <td>464.000000</td>\n",
              "      <td>2.000000</td>\n",
              "      <td>2.000000</td>\n",
              "      <td>-1.000000</td>\n",
              "      <td>0.000000</td>\n",
              "      <td>0.000000</td>\n",
              "      <td>0.000000</td>\n",
              "      <td>0.000000</td>\n",
              "      <td>0.000000</td>\n",
              "      <td>0.000000</td>\n",
              "      <td>0.000000</td>\n",
              "      <td>0.00000</td>\n",
              "      <td>0.0000</td>\n",
              "      <td>0.000000</td>\n",
              "    </tr>\n",
              "    <tr>\n",
              "      <th>25%</th>\n",
              "      <td>0.000000</td>\n",
              "      <td>0.000000</td>\n",
              "      <td>0.000000</td>\n",
              "      <td>0.00000</td>\n",
              "      <td>0.000000</td>\n",
              "      <td>0.000000</td>\n",
              "      <td>24.000000</td>\n",
              "      <td>0.000000</td>\n",
              "      <td>0.000000</td>\n",
              "      <td>0.000000</td>\n",
              "      <td>0.000000</td>\n",
              "      <td>1366.000000</td>\n",
              "      <td>28.000000</td>\n",
              "      <td>27.000000</td>\n",
              "      <td>-1.000000</td>\n",
              "      <td>0.000000</td>\n",
              "      <td>0.000000</td>\n",
              "      <td>0.000000</td>\n",
              "      <td>0.000000</td>\n",
              "      <td>0.000000</td>\n",
              "      <td>0.000000</td>\n",
              "      <td>151.575000</td>\n",
              "      <td>2.00000</td>\n",
              "      <td>0.0000</td>\n",
              "      <td>0.200000</td>\n",
              "    </tr>\n",
              "    <tr>\n",
              "      <th>50%</th>\n",
              "      <td>0.000000</td>\n",
              "      <td>0.000000</td>\n",
              "      <td>83.805000</td>\n",
              "      <td>0.00000</td>\n",
              "      <td>0.000000</td>\n",
              "      <td>0.000000</td>\n",
              "      <td>48.000000</td>\n",
              "      <td>0.000000</td>\n",
              "      <td>0.000000</td>\n",
              "      <td>0.000000</td>\n",
              "      <td>0.000000</td>\n",
              "      <td>1431.500000</td>\n",
              "      <td>30.000000</td>\n",
              "      <td>30.000000</td>\n",
              "      <td>1444.000000</td>\n",
              "      <td>0.000000</td>\n",
              "      <td>0.000000</td>\n",
              "      <td>0.000000</td>\n",
              "      <td>0.000000</td>\n",
              "      <td>0.000000</td>\n",
              "      <td>0.000000</td>\n",
              "      <td>650.350000</td>\n",
              "      <td>3.00000</td>\n",
              "      <td>0.0000</td>\n",
              "      <td>0.458300</td>\n",
              "    </tr>\n",
              "    <tr>\n",
              "      <th>75%</th>\n",
              "      <td>0.000000</td>\n",
              "      <td>2.000000</td>\n",
              "      <td>185.325000</td>\n",
              "      <td>1.00000</td>\n",
              "      <td>0.000000</td>\n",
              "      <td>2.000000</td>\n",
              "      <td>71.000000</td>\n",
              "      <td>1169.000000</td>\n",
              "      <td>1.000000</td>\n",
              "      <td>1.000000</td>\n",
              "      <td>22.345000</td>\n",
              "      <td>1849.250000</td>\n",
              "      <td>49.000000</td>\n",
              "      <td>47.000000</td>\n",
              "      <td>1500.000000</td>\n",
              "      <td>0.000000</td>\n",
              "      <td>0.000575</td>\n",
              "      <td>0.000000</td>\n",
              "      <td>0.000000</td>\n",
              "      <td>0.000000</td>\n",
              "      <td>0.000000</td>\n",
              "      <td>1923.250000</td>\n",
              "      <td>5.00000</td>\n",
              "      <td>1495.0000</td>\n",
              "      <td>0.735100</td>\n",
              "    </tr>\n",
              "    <tr>\n",
              "      <th>max</th>\n",
              "      <td>7.000000</td>\n",
              "      <td>18.000000</td>\n",
              "      <td>3469.000000</td>\n",
              "      <td>11.00000</td>\n",
              "      <td>14.000000</td>\n",
              "      <td>31.000000</td>\n",
              "      <td>100.000000</td>\n",
              "      <td>1926.000000</td>\n",
              "      <td>35.000000</td>\n",
              "      <td>4.000000</td>\n",
              "      <td>538.600000</td>\n",
              "      <td>2202.000000</td>\n",
              "      <td>100.000000</td>\n",
              "      <td>100.000000</td>\n",
              "      <td>2835.000000</td>\n",
              "      <td>5.000000</td>\n",
              "      <td>28780.000000</td>\n",
              "      <td>3.000000</td>\n",
              "      <td>971.200000</td>\n",
              "      <td>3.000000</td>\n",
              "      <td>2.000000</td>\n",
              "      <td>10490.000000</td>\n",
              "      <td>41.00000</td>\n",
              "      <td>1863.0000</td>\n",
              "      <td>1.000000</td>\n",
              "    </tr>\n",
              "  </tbody>\n",
              "</table>\n",
              "</div>"
            ],
            "text/plain": [
              "            assists        boosts  ...   winPoints  winPlacePerc\n",
              "count  10000.000000  10000.000000  ...  10000.0000  10000.000000\n",
              "mean       0.234600      1.088500  ...    609.3440      0.469926\n",
              "std        0.575149      1.703279  ...    739.7924      0.304508\n",
              "min        0.000000      0.000000  ...      0.0000      0.000000\n",
              "25%        0.000000      0.000000  ...      0.0000      0.200000\n",
              "50%        0.000000      0.000000  ...      0.0000      0.458300\n",
              "75%        0.000000      2.000000  ...   1495.0000      0.735100\n",
              "max        7.000000     18.000000  ...   1863.0000      1.000000\n",
              "\n",
              "[8 rows x 25 columns]"
            ]
          },
          "metadata": {
            "tags": []
          },
          "execution_count": 10
        }
      ]
    },
    {
      "cell_type": "markdown",
      "metadata": {
        "id": "O_0KGJ7JA_Si"
      },
      "source": [
        "Pandas describe() is used to view some basic statistical details like percentile, mean, std etc. of a data frame or a series of numeric values.\n",
        "1. The dataset consists of total 20 columns of numerical datatype \n",
        "2. mean gives the average value of that column \n",
        "3. std gives the standard deviation of that column \n",
        "4. min gives the minmum value present in that column \n",
        "5. max gives the maximum value present in that column \n",
        "6. 25% gives the 25% of that data \n",
        "7. 50% gives the 50% of that data \n",
        "8. 75% gives the 75% of that data"
      ]
    },
    {
      "cell_type": "markdown",
      "metadata": {
        "id": "vJML8VzFBTi4"
      },
      "source": [
        "4. The average person kills how many players?"
      ]
    },
    {
      "cell_type": "code",
      "metadata": {
        "id": "P2uBfWRSBY21",
        "outputId": "52940955-f2b1-4a39-e55a-a028c15b33c9",
        "colab": {
          "base_uri": "https://localhost:8080/"
        }
      },
      "source": [
        "newData=data.describe()\n",
        "print('The average person kills',newData.loc['mean']['kills'],'players')"
      ],
      "execution_count": null,
      "outputs": [
        {
          "output_type": "stream",
          "text": [
            "The average person kills 0.9134 players\n"
          ],
          "name": "stdout"
        }
      ]
    },
    {
      "cell_type": "markdown",
      "metadata": {
        "id": "3C1ehKRDCzoG"
      },
      "source": [
        "5. 99% of people have how many kills?"
      ]
    },
    {
      "cell_type": "code",
      "metadata": {
        "id": "FEdZHp43C0oa",
        "outputId": "1a00df67-f6b0-4410-f2d3-723db493ceef",
        "colab": {
          "base_uri": "https://localhost:8080/"
        }
      },
      "source": [
        "nn_per = data[\"kills\"].quantile(0.99)\n",
        "print(\"\\n99% of people have\",nn_per,\"kills\")"
      ],
      "execution_count": null,
      "outputs": [
        {
          "output_type": "stream",
          "text": [
            "\n",
            "99% of people have 7.0 kills\n"
          ],
          "name": "stdout"
        }
      ]
    },
    {
      "cell_type": "markdown",
      "metadata": {
        "id": "Um2wriLnDdc9"
      },
      "source": [
        "6. The most kills ever recorded are how much?"
      ]
    },
    {
      "cell_type": "code",
      "metadata": {
        "id": "DsEBRDj0Dg2p",
        "outputId": "0f764189-0e88-4959-8bc6-e2c6caef8765",
        "colab": {
          "base_uri": "https://localhost:8080/"
        }
      },
      "source": [
        "print('The 99% of people kills = ',newData.loc['max']['kills'])"
      ],
      "execution_count": null,
      "outputs": [
        {
          "output_type": "stream",
          "text": [
            "\n",
            "The most kill ever recorded are : 35\n"
          ],
          "name": "stdout"
        }
      ]
    },
    {
      "cell_type": "markdown",
      "metadata": {
        "id": "ZvxspB95EQWP"
      },
      "source": [
        "7. Print all the columns of the dataframe."
      ]
    },
    {
      "cell_type": "code",
      "metadata": {
        "id": "Bm1SHpkIEVCt",
        "outputId": "3d0fa129-5119-46a7-c935-7ba1e8b7d9f8",
        "colab": {
          "base_uri": "https://localhost:8080/"
        }
      },
      "source": [
        "data.columns"
      ],
      "execution_count": null,
      "outputs": [
        {
          "output_type": "execute_result",
          "data": {
            "text/plain": [
              "Index(['Id', 'groupId', 'matchId', 'assists', 'boosts', 'damageDealt', 'DBNOs',\n",
              "       'headshotKills', 'heals', 'killPlace', 'killPoints', 'kills',\n",
              "       'killStreaks', 'longestKill', 'matchDuration', 'matchType', 'maxPlace',\n",
              "       'numGroups', 'rankPoints', 'revives', 'rideDistance', 'roadKills',\n",
              "       'swimDistance', 'teamKills', 'vehicleDestroys', 'walkDistance',\n",
              "       'weaponsAcquired', 'winPoints', 'winPlacePerc'],\n",
              "      dtype='object')"
            ]
          },
          "metadata": {
            "tags": []
          },
          "execution_count": 20
        }
      ]
    },
    {
      "cell_type": "markdown",
      "metadata": {
        "id": "ri_Nb4v3EaOJ"
      },
      "source": [
        "8. Comment on distribution of the match's duration. Use seaborn."
      ]
    },
    {
      "cell_type": "code",
      "metadata": {
        "id": "HRVvL0DGEeVP",
        "outputId": "6aa474eb-bd7d-4df9-d867-a03563e1d31c",
        "colab": {
          "base_uri": "https://localhost:8080/",
          "height": 354
        }
      },
      "source": [
        "import seaborn as sns\n",
        "import pandas as pd\n",
        "path ='https://github.com/iranna-xo/Data-science-essentials-assigments/blob/main/Pubg%20Project/pubg%20-%20Dr.%20Darshan%20Ingle.csv'\n",
        "data = pd.read_csv(path)\n",
        "data\n",
        "sns.distplot(data['matchDuration'])"
      ],
      "execution_count": null,
      "outputs": [
        {
          "output_type": "stream",
          "text": [
            "/usr/local/lib/python3.6/dist-packages/seaborn/distributions.py:2551: FutureWarning: `distplot` is a deprecated function and will be removed in a future version. Please adapt your code to use either `displot` (a figure-level function with similar flexibility) or `histplot` (an axes-level function for histograms).\n",
            "  warnings.warn(msg, FutureWarning)\n"
          ],
          "name": "stderr"
        },
        {
          "output_type": "execute_result",
          "data": {
            "text/plain": [
              "<matplotlib.axes._subplots.AxesSubplot at 0x7fe8c570a320>"
            ]
          },
          "metadata": {
            "tags": []
          },
          "execution_count": 2
        },
        {
          "output_type": "display_data",
          "data": {
            "image/png": "[encoded data removed]",
            "text/plain": [
              "<Figure size 432x288 with 1 Axes>"
            ]
          },
          "metadata": {
            "tags": [],
            "needs_background": "light"
          }
        }
      ]
    },
    {
      "cell_type": "markdown",
      "metadata": {
        "id": "Rv8fq9k8F5XU"
      },
      "source": [
        "Match Distribution\n",
        "\n",
        "1.min value is 464 \n",
        "\n",
        "2.max values is 2202 \n",
        "\n",
        "3.std is 258.96 \n",
        "\n",
        "4.mean is 1575.39\n",
        "\n",
        "5.It is peak in between 1250-1500\n",
        "\n"
      ]
    },
    {
      "cell_type": "markdown",
      "metadata": {
        "id": "z9_UI9LaI0Lj"
      },
      "source": [
        "9. Comment on distribution of the walk distance. Use seaborn."
      ]
    },
    {
      "cell_type": "code",
      "metadata": {
        "id": "9wKuqbCtJTYb",
        "outputId": "fe9aa396-0172-470c-9363-0c6f087077e2",
        "colab": {
          "base_uri": "https://localhost:8080/",
          "height": 387
        }
      },
      "source": [
        "sns.displot(data['walkDistance'])"
      ],
      "execution_count": null,
      "outputs": [
        {
          "output_type": "execute_result",
          "data": {
            "text/plain": [
              "<seaborn.axisgrid.FacetGrid at 0x7fe8cdb65b38>"
            ]
          },
          "metadata": {
            "tags": []
          },
          "execution_count": 3
        },
        {
          "output_type": "display_data",
          "data": {
            "image/png": "[encoded data removed]",
            "text/plain": [
              "<Figure size 360x360 with 1 Axes>"
            ]
          },
          "metadata": {
            "tags": [],
            "needs_background": "light"
          }
        }
      ]
    },
    {
      "cell_type": "markdown",
      "metadata": {
        "id": "7ctYkVh2J1Mv"
      },
      "source": [
        "1. min value is 0 \n",
        "2. max values is 10490 \n",
        "3. std is 1168.59 \n",
        "4. mean is 1130.00 "
      ]
    },
    {
      "cell_type": "markdown",
      "metadata": {
        "id": "W5PMUuDtJ8gM"
      },
      "source": [
        "10. Plot distribution of the match's duration vs walk distance one below the other."
      ]
    },
    {
      "cell_type": "code",
      "metadata": {
        "id": "H5FVaKr5KDt6",
        "outputId": "5fc2e209-fc1a-44ea-e2d1-97e42541440c",
        "colab": {
          "base_uri": "https://localhost:8080/",
          "height": 372
        }
      },
      "source": [
        "import matplotlib.pyplot as plt\n",
        "fig,axs=plt.subplots(2,1)\n",
        "sns.distplot(data.matchDuration,ax=axs[0]);\n",
        "sns.distplot(data.walkDistance,ax=axs[1]);"
      ],
      "execution_count": null,
      "outputs": [
        {
          "output_type": "stream",
          "text": [
            "/usr/local/lib/python3.6/dist-packages/seaborn/distributions.py:2551: FutureWarning: `distplot` is a deprecated function and will be removed in a future version. Please adapt your code to use either `displot` (a figure-level function with similar flexibility) or `histplot` (an axes-level function for histograms).\n",
            "  warnings.warn(msg, FutureWarning)\n",
            "/usr/local/lib/python3.6/dist-packages/seaborn/distributions.py:2551: FutureWarning: `distplot` is a deprecated function and will be removed in a future version. Please adapt your code to use either `displot` (a figure-level function with similar flexibility) or `histplot` (an axes-level function for histograms).\n",
            "  warnings.warn(msg, FutureWarning)\n"
          ],
          "name": "stderr"
        },
        {
          "output_type": "display_data",
          "data": {
            "image/png": "[encoded data removed]",
            "text/plain": [
              "<Figure size 432x288 with 2 Axes>"
            ]
          },
          "metadata": {
            "tags": [],
            "needs_background": "light"
          }
        }
      ]
    },
    {
      "cell_type": "markdown",
      "metadata": {
        "id": "Mi60mNEmKula"
      },
      "source": [
        "11. Plot distribution of the match's duration vs walk distance side by side."
      ]
    },
    {
      "cell_type": "code",
      "metadata": {
        "id": "K_9srhajKzdY",
        "outputId": "5a4e5a25-4f5e-45b0-cf24-810f166b7f9b",
        "colab": {
          "base_uri": "https://localhost:8080/",
          "height": 406
        }
      },
      "source": [
        "import matplotlib.pyplot as plt\n",
        "fig,axs=plt.subplots(1,2,constrained_layout=True)\n",
        "sns.distplot(data.matchDuration,ax=axs[0]);\n",
        "sns.distplot(data.walkDistance,ax=axs[1]);"
      ],
      "execution_count": null,
      "outputs": [
        {
          "output_type": "stream",
          "text": [
            "/usr/local/lib/python3.6/dist-packages/seaborn/distributions.py:2551: FutureWarning: `distplot` is a deprecated function and will be removed in a future version. Please adapt your code to use either `displot` (a figure-level function with similar flexibility) or `histplot` (an axes-level function for histograms).\n",
            "  warnings.warn(msg, FutureWarning)\n",
            "/usr/local/lib/python3.6/dist-packages/seaborn/distributions.py:2551: FutureWarning: `distplot` is a deprecated function and will be removed in a future version. Please adapt your code to use either `displot` (a figure-level function with similar flexibility) or `histplot` (an axes-level function for histograms).\n",
            "  warnings.warn(msg, FutureWarning)\n"
          ],
          "name": "stderr"
        },
        {
          "output_type": "display_data",
          "data": {
            "image/png": "[encoded data removed]",
            "text/plain": [
              "<Figure size 432x288 with 2 Axes>"
            ]
          },
          "metadata": {
            "tags": [],
            "needs_background": "light"
          }
        }
      ]
    },
    {
      "cell_type": "markdown",
      "metadata": {
        "id": "Lr3eSyzkLnIM"
      },
      "source": [
        "12. Pairplot the dataframe. Comment on kills vs damage dealt, Comment on maxPlace vs numGroups."
      ]
    },
    {
      "cell_type": "code",
      "metadata": {
        "id": "gIvHE5EmLsY4"
      },
      "source": [
        "import seaborn as sns\n",
        "import pandas as pd\n",
        "path ='https://github.com/iranna-xo/Data-science-essentials-assigments/blob/main/Pubg%20Project/pubg%20-%20Dr.%20Darshan%20Ingle.csv'\n",
        "data = pd.read_csv(path)\n",
        "data\n",
        "sns.pairplot(data);"
      ],
      "execution_count": null,
      "outputs": []
    },
    {
      "cell_type": "markdown",
      "metadata": {
        "id": "klzSCSACka3P"
      },
      "source": [
        "13. How many unique values are there in 'matchType' and what are their counts?"
      ]
    },
    {
      "cell_type": "code",
      "metadata": {
        "id": "wpzjBFfEkuQi",
        "outputId": "13d7ffb4-28df-4082-9fa6-1498d6062716",
        "colab": {
          "base_uri": "https://localhost:8080/"
        }
      },
      "source": [
        "import seaborn as sns\n",
        "import pandas as pd\n",
        "path ='https://github.com/iranna-xo/Data-science-essentials-assigments/blob/main/Pubg%20Project/pubg%20-%20Dr.%20Darshan%20Ingle.csv'\n",
        "data = pd.read_csv(path)\n",
        "data\n",
        "data['matchType'].value_counts()\n"
      ],
      "execution_count": null,
      "outputs": [
        {
          "output_type": "execute_result",
          "data": {
            "text/plain": [
              "squad-fpp           3969\n",
              "duo-fpp             2282\n",
              "squad               1359\n",
              "solo-fpp            1234\n",
              "duo                  702\n",
              "solo                 386\n",
              "normal-squad-fpp      24\n",
              "crashfpp              13\n",
              "normal-duo-fpp        13\n",
              "normal-solo-fpp        8\n",
              "normal-squad           4\n",
              "flaretpp               3\n",
              "crashtpp               2\n",
              "flarefpp               1\n",
              "Name: matchType, dtype: int64"
            ]
          },
          "metadata": {
            "tags": []
          },
          "execution_count": 5
        }
      ]
    },
    {
      "cell_type": "markdown",
      "metadata": {
        "id": "_cfB8X_Vl6JC"
      },
      "source": [
        "14. Plot a barplot of ‘matchType’ vs 'killPoints'. Write your inferences."
      ]
    },
    {
      "cell_type": "code",
      "metadata": {
        "id": "tuMIIPiQl91-",
        "outputId": "ac7075d7-9587-4bab-d8ff-61d3250648ba",
        "colab": {
          "base_uri": "https://localhost:8080/",
          "height": 392
        }
      },
      "source": [
        "import matplotlib.pyplot as plt\n",
        "sns.barplot(x='matchType',y='killPoints',data=data)\n",
        "plt.xticks(rotation=70)"
      ],
      "execution_count": null,
      "outputs": [
        {
          "output_type": "execute_result",
          "data": {
            "text/plain": [
              "(array([ 0,  1,  2,  3,  4,  5,  6,  7,  8,  9, 10, 11, 12, 13]),\n",
              " <a list of 14 Text major ticklabel objects>)"
            ]
          },
          "metadata": {
            "tags": []
          },
          "execution_count": 11
        },
        {
          "output_type": "display_data",
          "data": {
            "image/png": "[encoded data removed]",
            "text/plain": [
              "<Figure size 432x288 with 1 Axes>"
            ]
          },
          "metadata": {
            "tags": [],
            "needs_background": "light"
          }
        }
      ]
    },
    {
      "cell_type": "markdown",
      "metadata": {
        "id": "3WOwpo9Pmu0K"
      },
      "source": [
        "1. Solo match type has least kill points\n",
        "2. normal-duo-fpp has highest killpoints\n",
        "3. next to the normal-duo-fpp , normal-squad-fpp has highest killpoints"
      ]
    },
    {
      "cell_type": "markdown",
      "metadata": {
        "id": "UusofOo8nMhb"
      },
      "source": [
        "15. Plot a barplot of ‘matchType’ vs ‘weaponsAcquired’. Write your inferences."
      ]
    },
    {
      "cell_type": "code",
      "metadata": {
        "id": "xku8BCFVnK5O",
        "outputId": "1933204a-e250-4726-e8a2-0fe058650e53",
        "colab": {
          "base_uri": "https://localhost:8080/",
          "height": 392
        }
      },
      "source": [
        "sns.barplot(x='matchType',y='weaponsAcquired',data=data)\n",
        "plt.xticks(rotation=70)"
      ],
      "execution_count": null,
      "outputs": [
        {
          "output_type": "execute_result",
          "data": {
            "text/plain": [
              "(array([ 0,  1,  2,  3,  4,  5,  6,  7,  8,  9, 10, 11, 12, 13]),\n",
              " <a list of 14 Text major ticklabel objects>)"
            ]
          },
          "metadata": {
            "tags": []
          },
          "execution_count": 13
        },
        {
          "output_type": "display_data",
          "data": {
            "image/png": "[encoded data removed]",
            "text/plain": [
              "<Figure size 432x288 with 1 Axes>"
            ]
          },
          "metadata": {
            "tags": [],
            "needs_background": "light"
          }
        }
      ]
    },
    {
      "cell_type": "markdown",
      "metadata": {
        "id": "KZ9DsucSnl9A"
      },
      "source": [
        "In crashtpp and crashfpp match types weapons acquired are very less whereas\n",
        "the normal-solo-fpp and normal-squad-fpp match types has more weapons acquired"
      ]
    },
    {
      "cell_type": "markdown",
      "metadata": {
        "id": "Xtrt28aFn6Us"
      },
      "source": [
        "16. Find the Categorical columns."
      ]
    },
    {
      "cell_type": "code",
      "metadata": {
        "id": "aPUExMsWn99h",
        "outputId": "258b8601-223e-4635-aa50-98f91df1191b",
        "colab": {
          "base_uri": "https://localhost:8080/",
          "height": 424
        }
      },
      "source": [
        "data.select_dtypes(exclude=[\"number\"])"
      ],
      "execution_count": null,
      "outputs": [
        {
          "output_type": "execute_result",
          "data": {
            "text/html": [
              "<div>\n",
              "<style scoped>\n",
              "    .dataframe tbody tr th:only-of-type {\n",
              "        vertical-align: middle;\n",
              "    }\n",
              "\n",
              "    .dataframe tbody tr th {\n",
              "        vertical-align: top;\n",
              "    }\n",
              "\n",
              "    .dataframe thead th {\n",
              "        text-align: right;\n",
              "    }\n",
              "</style>\n",
              "<table border=\"1\" class=\"dataframe\">\n",
              "  <thead>\n",
              "    <tr style=\"text-align: right;\">\n",
              "      <th></th>\n",
              "      <th>Id</th>\n",
              "      <th>groupId</th>\n",
              "      <th>matchId</th>\n",
              "      <th>matchType</th>\n",
              "    </tr>\n",
              "  </thead>\n",
              "  <tbody>\n",
              "    <tr>\n",
              "      <th>0</th>\n",
              "      <td>2f262dd9795e60</td>\n",
              "      <td>78437bcd91d40e</td>\n",
              "      <td>d5db3a49eb2955</td>\n",
              "      <td>squad-fpp</td>\n",
              "    </tr>\n",
              "    <tr>\n",
              "      <th>1</th>\n",
              "      <td>a32847cf5bf34b</td>\n",
              "      <td>85b7ce5a12e10b</td>\n",
              "      <td>65223f05c7fdb4</td>\n",
              "      <td>squad-fpp</td>\n",
              "    </tr>\n",
              "    <tr>\n",
              "      <th>2</th>\n",
              "      <td>1b1900a9990396</td>\n",
              "      <td>edf80d6523380a</td>\n",
              "      <td>1cadec4534f30a</td>\n",
              "      <td>squad-fpp</td>\n",
              "    </tr>\n",
              "    <tr>\n",
              "      <th>3</th>\n",
              "      <td>f589dd03b60bf2</td>\n",
              "      <td>804ab5e5585558</td>\n",
              "      <td>c4a5676dc91604</td>\n",
              "      <td>squad</td>\n",
              "    </tr>\n",
              "    <tr>\n",
              "      <th>4</th>\n",
              "      <td>c23c4cc5b78b35</td>\n",
              "      <td>b3e2cd169ed920</td>\n",
              "      <td>cd595700a01bfa</td>\n",
              "      <td>squad-fpp</td>\n",
              "    </tr>\n",
              "    <tr>\n",
              "      <th>...</th>\n",
              "      <td>...</td>\n",
              "      <td>...</td>\n",
              "      <td>...</td>\n",
              "      <td>...</td>\n",
              "    </tr>\n",
              "    <tr>\n",
              "      <th>9995</th>\n",
              "      <td>ef4f474acd8e85</td>\n",
              "      <td>2eca2a8391f75d</td>\n",
              "      <td>492ecdfae90b46</td>\n",
              "      <td>squad-fpp</td>\n",
              "    </tr>\n",
              "    <tr>\n",
              "      <th>9996</th>\n",
              "      <td>cf0bf82fb4d80e</td>\n",
              "      <td>2eaf2765f93adb</td>\n",
              "      <td>14bffd71e96320</td>\n",
              "      <td>duo-fpp</td>\n",
              "    </tr>\n",
              "    <tr>\n",
              "      <th>9997</th>\n",
              "      <td>a0a31a0b1dcbe1</td>\n",
              "      <td>8d50c64ccc5071</td>\n",
              "      <td>147e4bbb62e3bb</td>\n",
              "      <td>duo-fpp</td>\n",
              "    </tr>\n",
              "    <tr>\n",
              "      <th>9998</th>\n",
              "      <td>f6874657399d69</td>\n",
              "      <td>d31843d7e62ccb</td>\n",
              "      <td>662567dcf280f5</td>\n",
              "      <td>duo-fpp</td>\n",
              "    </tr>\n",
              "    <tr>\n",
              "      <th>9999</th>\n",
              "      <td>90359b0b8f8b0d</td>\n",
              "      <td>61d5b1bb8da43f</td>\n",
              "      <td>258bfa48d88014</td>\n",
              "      <td>solo</td>\n",
              "    </tr>\n",
              "  </tbody>\n",
              "</table>\n",
              "<p>10000 rows × 4 columns</p>\n",
              "</div>"
            ],
            "text/plain": [
              "                  Id         groupId         matchId  matchType\n",
              "0     2f262dd9795e60  78437bcd91d40e  d5db3a49eb2955  squad-fpp\n",
              "1     a32847cf5bf34b  85b7ce5a12e10b  65223f05c7fdb4  squad-fpp\n",
              "2     1b1900a9990396  edf80d6523380a  1cadec4534f30a  squad-fpp\n",
              "3     f589dd03b60bf2  804ab5e5585558  c4a5676dc91604      squad\n",
              "4     c23c4cc5b78b35  b3e2cd169ed920  cd595700a01bfa  squad-fpp\n",
              "...              ...             ...             ...        ...\n",
              "9995  ef4f474acd8e85  2eca2a8391f75d  492ecdfae90b46  squad-fpp\n",
              "9996  cf0bf82fb4d80e  2eaf2765f93adb  14bffd71e96320    duo-fpp\n",
              "9997  a0a31a0b1dcbe1  8d50c64ccc5071  147e4bbb62e3bb    duo-fpp\n",
              "9998  f6874657399d69  d31843d7e62ccb  662567dcf280f5    duo-fpp\n",
              "9999  90359b0b8f8b0d  61d5b1bb8da43f  258bfa48d88014       solo\n",
              "\n",
              "[10000 rows x 4 columns]"
            ]
          },
          "metadata": {
            "tags": []
          },
          "execution_count": 14
        }
      ]
    },
    {
      "cell_type": "markdown",
      "metadata": {
        "id": "M9lMcTi3obO8"
      },
      "source": [
        "17. Plot a boxplot of ‘matchType’ vs ‘winPlacePerc’. Write your inferences."
      ]
    },
    {
      "cell_type": "code",
      "metadata": {
        "id": "CUQYz16FogHa",
        "outputId": "08d2cd73-ac68-483f-d0f4-b91aba32cdc4",
        "colab": {
          "base_uri": "https://localhost:8080/",
          "height": 394
        }
      },
      "source": [
        "sns.boxplot(x='matchType',y='winPlacePerc',data=data)\n",
        "plt.xticks(rotation=90)"
      ],
      "execution_count": null,
      "outputs": [
        {
          "output_type": "execute_result",
          "data": {
            "text/plain": [
              "(array([ 0,  1,  2,  3,  4,  5,  6,  7,  8,  9, 10, 11, 12, 13]),\n",
              " <a list of 14 Text major ticklabel objects>)"
            ]
          },
          "metadata": {
            "tags": []
          },
          "execution_count": 19
        },
        {
          "output_type": "display_data",
          "data": {
            "image/png": "[encoded data removed]",
            "text/plain": [
              "<Figure size 432x288 with 1 Axes>"
            ]
          },
          "metadata": {
            "tags": [],
            "needs_background": "light"
          }
        }
      ]
    },
    {
      "cell_type": "markdown",
      "metadata": {
        "id": "x7C_mrdOqOU3"
      },
      "source": [
        "normal-duo-fpp has higher winplaceperc\n",
        "and flaretpp has the lower"
      ]
    },
    {
      "cell_type": "markdown",
      "metadata": {
        "id": "9kVfR0gGq3S7"
      },
      "source": [
        "18. Plot a boxplot of ‘matchType’ vs ‘matchDuration’. Write your inferences."
      ]
    },
    {
      "cell_type": "code",
      "metadata": {
        "id": "EpSWlvqMq5cN",
        "outputId": "a6413154-a3cc-4e5a-c765-c1728fb67edc",
        "colab": {
          "base_uri": "https://localhost:8080/",
          "height": 394
        }
      },
      "source": [
        "sns.boxplot(x='matchType',y='matchDuration',data=data)\n",
        "plt.xticks(rotation=90)"
      ],
      "execution_count": null,
      "outputs": [
        {
          "output_type": "execute_result",
          "data": {
            "text/plain": [
              "(array([ 0,  1,  2,  3,  4,  5,  6,  7,  8,  9, 10, 11, 12, 13]),\n",
              " <a list of 14 Text major ticklabel objects>)"
            ]
          },
          "metadata": {
            "tags": []
          },
          "execution_count": 20
        },
        {
          "output_type": "display_data",
          "data": {
            "image/png": "[encoded data removed]",
            "text/plain": [
              "<Figure size 432x288 with 1 Axes>"
            ]
          },
          "metadata": {
            "tags": [],
            "needs_background": "light"
          }
        }
      ]
    },
    {
      "cell_type": "markdown",
      "metadata": {
        "id": "Wk97_qrCrGP_"
      },
      "source": [
        "normal-squad-fpp has the longest math duration "
      ]
    },
    {
      "cell_type": "markdown",
      "metadata": {
        "id": "MUnO8plArUnh"
      },
      "source": [
        "19. Change the orientation of the above plot to horizontal."
      ]
    },
    {
      "cell_type": "code",
      "metadata": {
        "id": "ZuPfRgsZrZBQ",
        "outputId": "334350a5-8d44-465f-f089-3f8ca804991f",
        "colab": {
          "base_uri": "https://localhost:8080/",
          "height": 279
        }
      },
      "source": [
        "sns.boxplot( x='matchDuration', y='matchType',data=data);"
      ],
      "execution_count": null,
      "outputs": [
        {
          "output_type": "display_data",
          "data": {
            "image/png": "[encoded data removed]",
            "text/plain": [
              "<Figure size 432x288 with 1 Axes>"
            ]
          },
          "metadata": {
            "tags": [],
            "needs_background": "light"
          }
        }
      ]
    },
    {
      "cell_type": "markdown",
      "metadata": {
        "id": "roViUxRTsTAN"
      },
      "source": [
        "20. Add a new column called ‘KILL’ which contains the sum of following columns viz. headshotKills,\n",
        "teamKills, roadKills."
      ]
    },
    {
      "cell_type": "code",
      "metadata": {
        "id": "v7vTHpStsV7b",
        "outputId": "584142e6-6558-41c7-f62e-c172aba86e67",
        "colab": {
          "base_uri": "https://localhost:8080/",
          "height": 444
        }
      },
      "source": [
        "data['KILL'] = data['headshotKills']+data['teamKills']+data['roadKills']\n",
        "data\n"
      ],
      "execution_count": null,
      "outputs": [
        {
          "output_type": "execute_result",
          "data": {
            "text/html": [
              "<div>\n",
              "<style scoped>\n",
              "    .dataframe tbody tr th:only-of-type {\n",
              "        vertical-align: middle;\n",
              "    }\n",
              "\n",
              "    .dataframe tbody tr th {\n",
              "        vertical-align: top;\n",
              "    }\n",
              "\n",
              "    .dataframe thead th {\n",
              "        text-align: right;\n",
              "    }\n",
              "</style>\n",
              "<table border=\"1\" class=\"dataframe\">\n",
              "  <thead>\n",
              "    <tr style=\"text-align: right;\">\n",
              "      <th></th>\n",
              "      <th>Id</th>\n",
              "      <th>groupId</th>\n",
              "      <th>matchId</th>\n",
              "      <th>assists</th>\n",
              "      <th>boosts</th>\n",
              "      <th>damageDealt</th>\n",
              "      <th>DBNOs</th>\n",
              "      <th>headshotKills</th>\n",
              "      <th>heals</th>\n",
              "      <th>killPlace</th>\n",
              "      <th>killPoints</th>\n",
              "      <th>kills</th>\n",
              "      <th>killStreaks</th>\n",
              "      <th>longestKill</th>\n",
              "      <th>matchDuration</th>\n",
              "      <th>matchType</th>\n",
              "      <th>maxPlace</th>\n",
              "      <th>numGroups</th>\n",
              "      <th>rankPoints</th>\n",
              "      <th>revives</th>\n",
              "      <th>rideDistance</th>\n",
              "      <th>roadKills</th>\n",
              "      <th>swimDistance</th>\n",
              "      <th>teamKills</th>\n",
              "      <th>vehicleDestroys</th>\n",
              "      <th>walkDistance</th>\n",
              "      <th>weaponsAcquired</th>\n",
              "      <th>winPoints</th>\n",
              "      <th>winPlacePerc</th>\n",
              "      <th>KILL</th>\n",
              "    </tr>\n",
              "  </thead>\n",
              "  <tbody>\n",
              "    <tr>\n",
              "      <th>0</th>\n",
              "      <td>2f262dd9795e60</td>\n",
              "      <td>78437bcd91d40e</td>\n",
              "      <td>d5db3a49eb2955</td>\n",
              "      <td>0</td>\n",
              "      <td>0</td>\n",
              "      <td>0.0</td>\n",
              "      <td>0</td>\n",
              "      <td>0</td>\n",
              "      <td>0</td>\n",
              "      <td>92</td>\n",
              "      <td>1126</td>\n",
              "      <td>0</td>\n",
              "      <td>0</td>\n",
              "      <td>0.000</td>\n",
              "      <td>1376</td>\n",
              "      <td>squad-fpp</td>\n",
              "      <td>29</td>\n",
              "      <td>28</td>\n",
              "      <td>-1</td>\n",
              "      <td>0</td>\n",
              "      <td>0.0</td>\n",
              "      <td>0</td>\n",
              "      <td>0.0</td>\n",
              "      <td>0</td>\n",
              "      <td>0</td>\n",
              "      <td>0.00</td>\n",
              "      <td>0</td>\n",
              "      <td>1470</td>\n",
              "      <td>0.0000</td>\n",
              "      <td>0</td>\n",
              "    </tr>\n",
              "    <tr>\n",
              "      <th>1</th>\n",
              "      <td>a32847cf5bf34b</td>\n",
              "      <td>85b7ce5a12e10b</td>\n",
              "      <td>65223f05c7fdb4</td>\n",
              "      <td>0</td>\n",
              "      <td>0</td>\n",
              "      <td>163.2</td>\n",
              "      <td>1</td>\n",
              "      <td>1</td>\n",
              "      <td>0</td>\n",
              "      <td>42</td>\n",
              "      <td>1309</td>\n",
              "      <td>1</td>\n",
              "      <td>1</td>\n",
              "      <td>6.589</td>\n",
              "      <td>1370</td>\n",
              "      <td>squad-fpp</td>\n",
              "      <td>28</td>\n",
              "      <td>28</td>\n",
              "      <td>-1</td>\n",
              "      <td>0</td>\n",
              "      <td>0.0</td>\n",
              "      <td>0</td>\n",
              "      <td>0.0</td>\n",
              "      <td>0</td>\n",
              "      <td>0</td>\n",
              "      <td>132.70</td>\n",
              "      <td>2</td>\n",
              "      <td>1531</td>\n",
              "      <td>0.2222</td>\n",
              "      <td>1</td>\n",
              "    </tr>\n",
              "    <tr>\n",
              "      <th>2</th>\n",
              "      <td>1b1900a9990396</td>\n",
              "      <td>edf80d6523380a</td>\n",
              "      <td>1cadec4534f30a</td>\n",
              "      <td>0</td>\n",
              "      <td>3</td>\n",
              "      <td>278.7</td>\n",
              "      <td>2</td>\n",
              "      <td>1</td>\n",
              "      <td>8</td>\n",
              "      <td>16</td>\n",
              "      <td>0</td>\n",
              "      <td>2</td>\n",
              "      <td>1</td>\n",
              "      <td>23.070</td>\n",
              "      <td>1381</td>\n",
              "      <td>squad-fpp</td>\n",
              "      <td>29</td>\n",
              "      <td>27</td>\n",
              "      <td>1479</td>\n",
              "      <td>3</td>\n",
              "      <td>0.0</td>\n",
              "      <td>0</td>\n",
              "      <td>0.0</td>\n",
              "      <td>0</td>\n",
              "      <td>0</td>\n",
              "      <td>3591.00</td>\n",
              "      <td>10</td>\n",
              "      <td>0</td>\n",
              "      <td>0.8571</td>\n",
              "      <td>1</td>\n",
              "    </tr>\n",
              "    <tr>\n",
              "      <th>3</th>\n",
              "      <td>f589dd03b60bf2</td>\n",
              "      <td>804ab5e5585558</td>\n",
              "      <td>c4a5676dc91604</td>\n",
              "      <td>0</td>\n",
              "      <td>0</td>\n",
              "      <td>191.9</td>\n",
              "      <td>1</td>\n",
              "      <td>0</td>\n",
              "      <td>0</td>\n",
              "      <td>31</td>\n",
              "      <td>0</td>\n",
              "      <td>1</td>\n",
              "      <td>1</td>\n",
              "      <td>24.890</td>\n",
              "      <td>1708</td>\n",
              "      <td>squad</td>\n",
              "      <td>27</td>\n",
              "      <td>25</td>\n",
              "      <td>1500</td>\n",
              "      <td>0</td>\n",
              "      <td>0.0</td>\n",
              "      <td>0</td>\n",
              "      <td>0.0</td>\n",
              "      <td>0</td>\n",
              "      <td>0</td>\n",
              "      <td>332.70</td>\n",
              "      <td>3</td>\n",
              "      <td>0</td>\n",
              "      <td>0.3462</td>\n",
              "      <td>0</td>\n",
              "    </tr>\n",
              "    <tr>\n",
              "      <th>4</th>\n",
              "      <td>c23c4cc5b78b35</td>\n",
              "      <td>b3e2cd169ed920</td>\n",
              "      <td>cd595700a01bfa</td>\n",
              "      <td>0</td>\n",
              "      <td>0</td>\n",
              "      <td>100.0</td>\n",
              "      <td>1</td>\n",
              "      <td>0</td>\n",
              "      <td>0</td>\n",
              "      <td>87</td>\n",
              "      <td>1332</td>\n",
              "      <td>0</td>\n",
              "      <td>0</td>\n",
              "      <td>0.000</td>\n",
              "      <td>1807</td>\n",
              "      <td>squad-fpp</td>\n",
              "      <td>30</td>\n",
              "      <td>30</td>\n",
              "      <td>-1</td>\n",
              "      <td>0</td>\n",
              "      <td>0.0</td>\n",
              "      <td>0</td>\n",
              "      <td>0.0</td>\n",
              "      <td>0</td>\n",
              "      <td>0</td>\n",
              "      <td>252.70</td>\n",
              "      <td>3</td>\n",
              "      <td>1557</td>\n",
              "      <td>0.0690</td>\n",
              "      <td>0</td>\n",
              "    </tr>\n",
              "    <tr>\n",
              "      <th>...</th>\n",
              "      <td>...</td>\n",
              "      <td>...</td>\n",
              "      <td>...</td>\n",
              "      <td>...</td>\n",
              "      <td>...</td>\n",
              "      <td>...</td>\n",
              "      <td>...</td>\n",
              "      <td>...</td>\n",
              "      <td>...</td>\n",
              "      <td>...</td>\n",
              "      <td>...</td>\n",
              "      <td>...</td>\n",
              "      <td>...</td>\n",
              "      <td>...</td>\n",
              "      <td>...</td>\n",
              "      <td>...</td>\n",
              "      <td>...</td>\n",
              "      <td>...</td>\n",
              "      <td>...</td>\n",
              "      <td>...</td>\n",
              "      <td>...</td>\n",
              "      <td>...</td>\n",
              "      <td>...</td>\n",
              "      <td>...</td>\n",
              "      <td>...</td>\n",
              "      <td>...</td>\n",
              "      <td>...</td>\n",
              "      <td>...</td>\n",
              "      <td>...</td>\n",
              "      <td>...</td>\n",
              "    </tr>\n",
              "    <tr>\n",
              "      <th>9995</th>\n",
              "      <td>ef4f474acd8e85</td>\n",
              "      <td>2eca2a8391f75d</td>\n",
              "      <td>492ecdfae90b46</td>\n",
              "      <td>0</td>\n",
              "      <td>3</td>\n",
              "      <td>204.5</td>\n",
              "      <td>1</td>\n",
              "      <td>0</td>\n",
              "      <td>0</td>\n",
              "      <td>17</td>\n",
              "      <td>1033</td>\n",
              "      <td>2</td>\n",
              "      <td>1</td>\n",
              "      <td>13.270</td>\n",
              "      <td>1288</td>\n",
              "      <td>squad-fpp</td>\n",
              "      <td>31</td>\n",
              "      <td>30</td>\n",
              "      <td>-1</td>\n",
              "      <td>3</td>\n",
              "      <td>0.0</td>\n",
              "      <td>0</td>\n",
              "      <td>0.0</td>\n",
              "      <td>0</td>\n",
              "      <td>0</td>\n",
              "      <td>1648.00</td>\n",
              "      <td>4</td>\n",
              "      <td>1471</td>\n",
              "      <td>0.8333</td>\n",
              "      <td>0</td>\n",
              "    </tr>\n",
              "    <tr>\n",
              "      <th>9996</th>\n",
              "      <td>cf0bf82fb4d80e</td>\n",
              "      <td>2eaf2765f93adb</td>\n",
              "      <td>14bffd71e96320</td>\n",
              "      <td>0</td>\n",
              "      <td>0</td>\n",
              "      <td>0.0</td>\n",
              "      <td>0</td>\n",
              "      <td>0</td>\n",
              "      <td>0</td>\n",
              "      <td>49</td>\n",
              "      <td>1000</td>\n",
              "      <td>0</td>\n",
              "      <td>0</td>\n",
              "      <td>0.000</td>\n",
              "      <td>1906</td>\n",
              "      <td>duo-fpp</td>\n",
              "      <td>47</td>\n",
              "      <td>44</td>\n",
              "      <td>-1</td>\n",
              "      <td>0</td>\n",
              "      <td>0.0</td>\n",
              "      <td>0</td>\n",
              "      <td>0.0</td>\n",
              "      <td>0</td>\n",
              "      <td>0</td>\n",
              "      <td>897.10</td>\n",
              "      <td>6</td>\n",
              "      <td>1500</td>\n",
              "      <td>0.7174</td>\n",
              "      <td>0</td>\n",
              "    </tr>\n",
              "    <tr>\n",
              "      <th>9997</th>\n",
              "      <td>a0a31a0b1dcbe1</td>\n",
              "      <td>8d50c64ccc5071</td>\n",
              "      <td>147e4bbb62e3bb</td>\n",
              "      <td>0</td>\n",
              "      <td>0</td>\n",
              "      <td>0.0</td>\n",
              "      <td>0</td>\n",
              "      <td>0</td>\n",
              "      <td>0</td>\n",
              "      <td>83</td>\n",
              "      <td>1334</td>\n",
              "      <td>0</td>\n",
              "      <td>0</td>\n",
              "      <td>0.000</td>\n",
              "      <td>1344</td>\n",
              "      <td>duo-fpp</td>\n",
              "      <td>49</td>\n",
              "      <td>49</td>\n",
              "      <td>-1</td>\n",
              "      <td>0</td>\n",
              "      <td>0.0</td>\n",
              "      <td>0</td>\n",
              "      <td>0.0</td>\n",
              "      <td>0</td>\n",
              "      <td>0</td>\n",
              "      <td>188.20</td>\n",
              "      <td>2</td>\n",
              "      <td>1434</td>\n",
              "      <td>0.2083</td>\n",
              "      <td>0</td>\n",
              "    </tr>\n",
              "    <tr>\n",
              "      <th>9998</th>\n",
              "      <td>f6874657399d69</td>\n",
              "      <td>d31843d7e62ccb</td>\n",
              "      <td>662567dcf280f5</td>\n",
              "      <td>0</td>\n",
              "      <td>0</td>\n",
              "      <td>0.0</td>\n",
              "      <td>0</td>\n",
              "      <td>0</td>\n",
              "      <td>0</td>\n",
              "      <td>82</td>\n",
              "      <td>1335</td>\n",
              "      <td>0</td>\n",
              "      <td>0</td>\n",
              "      <td>0.000</td>\n",
              "      <td>1355</td>\n",
              "      <td>duo-fpp</td>\n",
              "      <td>50</td>\n",
              "      <td>50</td>\n",
              "      <td>-1</td>\n",
              "      <td>0</td>\n",
              "      <td>0.0</td>\n",
              "      <td>0</td>\n",
              "      <td>0.0</td>\n",
              "      <td>0</td>\n",
              "      <td>0</td>\n",
              "      <td>108.10</td>\n",
              "      <td>5</td>\n",
              "      <td>1534</td>\n",
              "      <td>0.2449</td>\n",
              "      <td>0</td>\n",
              "    </tr>\n",
              "    <tr>\n",
              "      <th>9999</th>\n",
              "      <td>90359b0b8f8b0d</td>\n",
              "      <td>61d5b1bb8da43f</td>\n",
              "      <td>258bfa48d88014</td>\n",
              "      <td>0</td>\n",
              "      <td>0</td>\n",
              "      <td>0.0</td>\n",
              "      <td>0</td>\n",
              "      <td>0</td>\n",
              "      <td>0</td>\n",
              "      <td>78</td>\n",
              "      <td>0</td>\n",
              "      <td>0</td>\n",
              "      <td>0</td>\n",
              "      <td>0.000</td>\n",
              "      <td>1416</td>\n",
              "      <td>solo</td>\n",
              "      <td>97</td>\n",
              "      <td>93</td>\n",
              "      <td>1511</td>\n",
              "      <td>0</td>\n",
              "      <td>0.0</td>\n",
              "      <td>0</td>\n",
              "      <td>0.0</td>\n",
              "      <td>0</td>\n",
              "      <td>0</td>\n",
              "      <td>53.36</td>\n",
              "      <td>1</td>\n",
              "      <td>0</td>\n",
              "      <td>0.1875</td>\n",
              "      <td>0</td>\n",
              "    </tr>\n",
              "  </tbody>\n",
              "</table>\n",
              "<p>10000 rows × 30 columns</p>\n",
              "</div>"
            ],
            "text/plain": [
              "                  Id         groupId  ... winPlacePerc  KILL\n",
              "0     2f262dd9795e60  78437bcd91d40e  ...       0.0000     0\n",
              "1     a32847cf5bf34b  85b7ce5a12e10b  ...       0.2222     1\n",
              "2     1b1900a9990396  edf80d6523380a  ...       0.8571     1\n",
              "3     f589dd03b60bf2  804ab5e5585558  ...       0.3462     0\n",
              "4     c23c4cc5b78b35  b3e2cd169ed920  ...       0.0690     0\n",
              "...              ...             ...  ...          ...   ...\n",
              "9995  ef4f474acd8e85  2eca2a8391f75d  ...       0.8333     0\n",
              "9996  cf0bf82fb4d80e  2eaf2765f93adb  ...       0.7174     0\n",
              "9997  a0a31a0b1dcbe1  8d50c64ccc5071  ...       0.2083     0\n",
              "9998  f6874657399d69  d31843d7e62ccb  ...       0.2449     0\n",
              "9999  90359b0b8f8b0d  61d5b1bb8da43f  ...       0.1875     0\n",
              "\n",
              "[10000 rows x 30 columns]"
            ]
          },
          "metadata": {
            "tags": []
          },
          "execution_count": 25
        }
      ]
    },
    {
      "cell_type": "markdown",
      "metadata": {
        "id": "ylHO8o3zs-GD"
      },
      "source": [
        "21. Round off column ‘winPlacePerc’ to 2 decimals."
      ]
    },
    {
      "cell_type": "code",
      "metadata": {
        "id": "jdFlS-tQtFbw",
        "outputId": "5a501787-45c5-434e-e8d1-75a8fa4b5bb9",
        "colab": {
          "base_uri": "https://localhost:8080/",
          "height": 444
        }
      },
      "source": [
        "data.round({\"winPlacePerc\":2})"
      ],
      "execution_count": null,
      "outputs": [
        {
          "output_type": "execute_result",
          "data": {
            "text/html": [
              "<div>\n",
              "<style scoped>\n",
              "    .dataframe tbody tr th:only-of-type {\n",
              "        vertical-align: middle;\n",
              "    }\n",
              "\n",
              "    .dataframe tbody tr th {\n",
              "        vertical-align: top;\n",
              "    }\n",
              "\n",
              "    .dataframe thead th {\n",
              "        text-align: right;\n",
              "    }\n",
              "</style>\n",
              "<table border=\"1\" class=\"dataframe\">\n",
              "  <thead>\n",
              "    <tr style=\"text-align: right;\">\n",
              "      <th></th>\n",
              "      <th>Id</th>\n",
              "      <th>groupId</th>\n",
              "      <th>matchId</th>\n",
              "      <th>assists</th>\n",
              "      <th>boosts</th>\n",
              "      <th>damageDealt</th>\n",
              "      <th>DBNOs</th>\n",
              "      <th>headshotKills</th>\n",
              "      <th>heals</th>\n",
              "      <th>killPlace</th>\n",
              "      <th>killPoints</th>\n",
              "      <th>kills</th>\n",
              "      <th>killStreaks</th>\n",
              "      <th>longestKill</th>\n",
              "      <th>matchDuration</th>\n",
              "      <th>matchType</th>\n",
              "      <th>maxPlace</th>\n",
              "      <th>numGroups</th>\n",
              "      <th>rankPoints</th>\n",
              "      <th>revives</th>\n",
              "      <th>rideDistance</th>\n",
              "      <th>roadKills</th>\n",
              "      <th>swimDistance</th>\n",
              "      <th>teamKills</th>\n",
              "      <th>vehicleDestroys</th>\n",
              "      <th>walkDistance</th>\n",
              "      <th>weaponsAcquired</th>\n",
              "      <th>winPoints</th>\n",
              "      <th>winPlacePerc</th>\n",
              "      <th>KILL</th>\n",
              "    </tr>\n",
              "  </thead>\n",
              "  <tbody>\n",
              "    <tr>\n",
              "      <th>0</th>\n",
              "      <td>2f262dd9795e60</td>\n",
              "      <td>78437bcd91d40e</td>\n",
              "      <td>d5db3a49eb2955</td>\n",
              "      <td>0</td>\n",
              "      <td>0</td>\n",
              "      <td>0.0</td>\n",
              "      <td>0</td>\n",
              "      <td>0</td>\n",
              "      <td>0</td>\n",
              "      <td>92</td>\n",
              "      <td>1126</td>\n",
              "      <td>0</td>\n",
              "      <td>0</td>\n",
              "      <td>0.000</td>\n",
              "      <td>1376</td>\n",
              "      <td>squad-fpp</td>\n",
              "      <td>29</td>\n",
              "      <td>28</td>\n",
              "      <td>-1</td>\n",
              "      <td>0</td>\n",
              "      <td>0.0</td>\n",
              "      <td>0</td>\n",
              "      <td>0.0</td>\n",
              "      <td>0</td>\n",
              "      <td>0</td>\n",
              "      <td>0.00</td>\n",
              "      <td>0</td>\n",
              "      <td>1470</td>\n",
              "      <td>0.00</td>\n",
              "      <td>0</td>\n",
              "    </tr>\n",
              "    <tr>\n",
              "      <th>1</th>\n",
              "      <td>a32847cf5bf34b</td>\n",
              "      <td>85b7ce5a12e10b</td>\n",
              "      <td>65223f05c7fdb4</td>\n",
              "      <td>0</td>\n",
              "      <td>0</td>\n",
              "      <td>163.2</td>\n",
              "      <td>1</td>\n",
              "      <td>1</td>\n",
              "      <td>0</td>\n",
              "      <td>42</td>\n",
              "      <td>1309</td>\n",
              "      <td>1</td>\n",
              "      <td>1</td>\n",
              "      <td>6.589</td>\n",
              "      <td>1370</td>\n",
              "      <td>squad-fpp</td>\n",
              "      <td>28</td>\n",
              "      <td>28</td>\n",
              "      <td>-1</td>\n",
              "      <td>0</td>\n",
              "      <td>0.0</td>\n",
              "      <td>0</td>\n",
              "      <td>0.0</td>\n",
              "      <td>0</td>\n",
              "      <td>0</td>\n",
              "      <td>132.70</td>\n",
              "      <td>2</td>\n",
              "      <td>1531</td>\n",
              "      <td>0.22</td>\n",
              "      <td>1</td>\n",
              "    </tr>\n",
              "    <tr>\n",
              "      <th>2</th>\n",
              "      <td>1b1900a9990396</td>\n",
              "      <td>edf80d6523380a</td>\n",
              "      <td>1cadec4534f30a</td>\n",
              "      <td>0</td>\n",
              "      <td>3</td>\n",
              "      <td>278.7</td>\n",
              "      <td>2</td>\n",
              "      <td>1</td>\n",
              "      <td>8</td>\n",
              "      <td>16</td>\n",
              "      <td>0</td>\n",
              "      <td>2</td>\n",
              "      <td>1</td>\n",
              "      <td>23.070</td>\n",
              "      <td>1381</td>\n",
              "      <td>squad-fpp</td>\n",
              "      <td>29</td>\n",
              "      <td>27</td>\n",
              "      <td>1479</td>\n",
              "      <td>3</td>\n",
              "      <td>0.0</td>\n",
              "      <td>0</td>\n",
              "      <td>0.0</td>\n",
              "      <td>0</td>\n",
              "      <td>0</td>\n",
              "      <td>3591.00</td>\n",
              "      <td>10</td>\n",
              "      <td>0</td>\n",
              "      <td>0.86</td>\n",
              "      <td>1</td>\n",
              "    </tr>\n",
              "    <tr>\n",
              "      <th>3</th>\n",
              "      <td>f589dd03b60bf2</td>\n",
              "      <td>804ab5e5585558</td>\n",
              "      <td>c4a5676dc91604</td>\n",
              "      <td>0</td>\n",
              "      <td>0</td>\n",
              "      <td>191.9</td>\n",
              "      <td>1</td>\n",
              "      <td>0</td>\n",
              "      <td>0</td>\n",
              "      <td>31</td>\n",
              "      <td>0</td>\n",
              "      <td>1</td>\n",
              "      <td>1</td>\n",
              "      <td>24.890</td>\n",
              "      <td>1708</td>\n",
              "      <td>squad</td>\n",
              "      <td>27</td>\n",
              "      <td>25</td>\n",
              "      <td>1500</td>\n",
              "      <td>0</td>\n",
              "      <td>0.0</td>\n",
              "      <td>0</td>\n",
              "      <td>0.0</td>\n",
              "      <td>0</td>\n",
              "      <td>0</td>\n",
              "      <td>332.70</td>\n",
              "      <td>3</td>\n",
              "      <td>0</td>\n",
              "      <td>0.35</td>\n",
              "      <td>0</td>\n",
              "    </tr>\n",
              "    <tr>\n",
              "      <th>4</th>\n",
              "      <td>c23c4cc5b78b35</td>\n",
              "      <td>b3e2cd169ed920</td>\n",
              "      <td>cd595700a01bfa</td>\n",
              "      <td>0</td>\n",
              "      <td>0</td>\n",
              "      <td>100.0</td>\n",
              "      <td>1</td>\n",
              "      <td>0</td>\n",
              "      <td>0</td>\n",
              "      <td>87</td>\n",
              "      <td>1332</td>\n",
              "      <td>0</td>\n",
              "      <td>0</td>\n",
              "      <td>0.000</td>\n",
              "      <td>1807</td>\n",
              "      <td>squad-fpp</td>\n",
              "      <td>30</td>\n",
              "      <td>30</td>\n",
              "      <td>-1</td>\n",
              "      <td>0</td>\n",
              "      <td>0.0</td>\n",
              "      <td>0</td>\n",
              "      <td>0.0</td>\n",
              "      <td>0</td>\n",
              "      <td>0</td>\n",
              "      <td>252.70</td>\n",
              "      <td>3</td>\n",
              "      <td>1557</td>\n",
              "      <td>0.07</td>\n",
              "      <td>0</td>\n",
              "    </tr>\n",
              "    <tr>\n",
              "      <th>...</th>\n",
              "      <td>...</td>\n",
              "      <td>...</td>\n",
              "      <td>...</td>\n",
              "      <td>...</td>\n",
              "      <td>...</td>\n",
              "      <td>...</td>\n",
              "      <td>...</td>\n",
              "      <td>...</td>\n",
              "      <td>...</td>\n",
              "      <td>...</td>\n",
              "      <td>...</td>\n",
              "      <td>...</td>\n",
              "      <td>...</td>\n",
              "      <td>...</td>\n",
              "      <td>...</td>\n",
              "      <td>...</td>\n",
              "      <td>...</td>\n",
              "      <td>...</td>\n",
              "      <td>...</td>\n",
              "      <td>...</td>\n",
              "      <td>...</td>\n",
              "      <td>...</td>\n",
              "      <td>...</td>\n",
              "      <td>...</td>\n",
              "      <td>...</td>\n",
              "      <td>...</td>\n",
              "      <td>...</td>\n",
              "      <td>...</td>\n",
              "      <td>...</td>\n",
              "      <td>...</td>\n",
              "    </tr>\n",
              "    <tr>\n",
              "      <th>9995</th>\n",
              "      <td>ef4f474acd8e85</td>\n",
              "      <td>2eca2a8391f75d</td>\n",
              "      <td>492ecdfae90b46</td>\n",
              "      <td>0</td>\n",
              "      <td>3</td>\n",
              "      <td>204.5</td>\n",
              "      <td>1</td>\n",
              "      <td>0</td>\n",
              "      <td>0</td>\n",
              "      <td>17</td>\n",
              "      <td>1033</td>\n",
              "      <td>2</td>\n",
              "      <td>1</td>\n",
              "      <td>13.270</td>\n",
              "      <td>1288</td>\n",
              "      <td>squad-fpp</td>\n",
              "      <td>31</td>\n",
              "      <td>30</td>\n",
              "      <td>-1</td>\n",
              "      <td>3</td>\n",
              "      <td>0.0</td>\n",
              "      <td>0</td>\n",
              "      <td>0.0</td>\n",
              "      <td>0</td>\n",
              "      <td>0</td>\n",
              "      <td>1648.00</td>\n",
              "      <td>4</td>\n",
              "      <td>1471</td>\n",
              "      <td>0.83</td>\n",
              "      <td>0</td>\n",
              "    </tr>\n",
              "    <tr>\n",
              "      <th>9996</th>\n",
              "      <td>cf0bf82fb4d80e</td>\n",
              "      <td>2eaf2765f93adb</td>\n",
              "      <td>14bffd71e96320</td>\n",
              "      <td>0</td>\n",
              "      <td>0</td>\n",
              "      <td>0.0</td>\n",
              "      <td>0</td>\n",
              "      <td>0</td>\n",
              "      <td>0</td>\n",
              "      <td>49</td>\n",
              "      <td>1000</td>\n",
              "      <td>0</td>\n",
              "      <td>0</td>\n",
              "      <td>0.000</td>\n",
              "      <td>1906</td>\n",
              "      <td>duo-fpp</td>\n",
              "      <td>47</td>\n",
              "      <td>44</td>\n",
              "      <td>-1</td>\n",
              "      <td>0</td>\n",
              "      <td>0.0</td>\n",
              "      <td>0</td>\n",
              "      <td>0.0</td>\n",
              "      <td>0</td>\n",
              "      <td>0</td>\n",
              "      <td>897.10</td>\n",
              "      <td>6</td>\n",
              "      <td>1500</td>\n",
              "      <td>0.72</td>\n",
              "      <td>0</td>\n",
              "    </tr>\n",
              "    <tr>\n",
              "      <th>9997</th>\n",
              "      <td>a0a31a0b1dcbe1</td>\n",
              "      <td>8d50c64ccc5071</td>\n",
              "      <td>147e4bbb62e3bb</td>\n",
              "      <td>0</td>\n",
              "      <td>0</td>\n",
              "      <td>0.0</td>\n",
              "      <td>0</td>\n",
              "      <td>0</td>\n",
              "      <td>0</td>\n",
              "      <td>83</td>\n",
              "      <td>1334</td>\n",
              "      <td>0</td>\n",
              "      <td>0</td>\n",
              "      <td>0.000</td>\n",
              "      <td>1344</td>\n",
              "      <td>duo-fpp</td>\n",
              "      <td>49</td>\n",
              "      <td>49</td>\n",
              "      <td>-1</td>\n",
              "      <td>0</td>\n",
              "      <td>0.0</td>\n",
              "      <td>0</td>\n",
              "      <td>0.0</td>\n",
              "      <td>0</td>\n",
              "      <td>0</td>\n",
              "      <td>188.20</td>\n",
              "      <td>2</td>\n",
              "      <td>1434</td>\n",
              "      <td>0.21</td>\n",
              "      <td>0</td>\n",
              "    </tr>\n",
              "    <tr>\n",
              "      <th>9998</th>\n",
              "      <td>f6874657399d69</td>\n",
              "      <td>d31843d7e62ccb</td>\n",
              "      <td>662567dcf280f5</td>\n",
              "      <td>0</td>\n",
              "      <td>0</td>\n",
              "      <td>0.0</td>\n",
              "      <td>0</td>\n",
              "      <td>0</td>\n",
              "      <td>0</td>\n",
              "      <td>82</td>\n",
              "      <td>1335</td>\n",
              "      <td>0</td>\n",
              "      <td>0</td>\n",
              "      <td>0.000</td>\n",
              "      <td>1355</td>\n",
              "      <td>duo-fpp</td>\n",
              "      <td>50</td>\n",
              "      <td>50</td>\n",
              "      <td>-1</td>\n",
              "      <td>0</td>\n",
              "      <td>0.0</td>\n",
              "      <td>0</td>\n",
              "      <td>0.0</td>\n",
              "      <td>0</td>\n",
              "      <td>0</td>\n",
              "      <td>108.10</td>\n",
              "      <td>5</td>\n",
              "      <td>1534</td>\n",
              "      <td>0.24</td>\n",
              "      <td>0</td>\n",
              "    </tr>\n",
              "    <tr>\n",
              "      <th>9999</th>\n",
              "      <td>90359b0b8f8b0d</td>\n",
              "      <td>61d5b1bb8da43f</td>\n",
              "      <td>258bfa48d88014</td>\n",
              "      <td>0</td>\n",
              "      <td>0</td>\n",
              "      <td>0.0</td>\n",
              "      <td>0</td>\n",
              "      <td>0</td>\n",
              "      <td>0</td>\n",
              "      <td>78</td>\n",
              "      <td>0</td>\n",
              "      <td>0</td>\n",
              "      <td>0</td>\n",
              "      <td>0.000</td>\n",
              "      <td>1416</td>\n",
              "      <td>solo</td>\n",
              "      <td>97</td>\n",
              "      <td>93</td>\n",
              "      <td>1511</td>\n",
              "      <td>0</td>\n",
              "      <td>0.0</td>\n",
              "      <td>0</td>\n",
              "      <td>0.0</td>\n",
              "      <td>0</td>\n",
              "      <td>0</td>\n",
              "      <td>53.36</td>\n",
              "      <td>1</td>\n",
              "      <td>0</td>\n",
              "      <td>0.19</td>\n",
              "      <td>0</td>\n",
              "    </tr>\n",
              "  </tbody>\n",
              "</table>\n",
              "<p>10000 rows × 30 columns</p>\n",
              "</div>"
            ],
            "text/plain": [
              "                  Id         groupId  ... winPlacePerc  KILL\n",
              "0     2f262dd9795e60  78437bcd91d40e  ...         0.00     0\n",
              "1     a32847cf5bf34b  85b7ce5a12e10b  ...         0.22     1\n",
              "2     1b1900a9990396  edf80d6523380a  ...         0.86     1\n",
              "3     f589dd03b60bf2  804ab5e5585558  ...         0.35     0\n",
              "4     c23c4cc5b78b35  b3e2cd169ed920  ...         0.07     0\n",
              "...              ...             ...  ...          ...   ...\n",
              "9995  ef4f474acd8e85  2eca2a8391f75d  ...         0.83     0\n",
              "9996  cf0bf82fb4d80e  2eaf2765f93adb  ...         0.72     0\n",
              "9997  a0a31a0b1dcbe1  8d50c64ccc5071  ...         0.21     0\n",
              "9998  f6874657399d69  d31843d7e62ccb  ...         0.24     0\n",
              "9999  90359b0b8f8b0d  61d5b1bb8da43f  ...         0.19     0\n",
              "\n",
              "[10000 rows x 30 columns]"
            ]
          },
          "metadata": {
            "tags": []
          },
          "execution_count": 27
        }
      ]
    },
    {
      "cell_type": "markdown",
      "metadata": {
        "id": "xtvvE0gAttTR"
      },
      "source": [
        "22. Take a sample of size 50 from the column damageDealt for 100 times and calculate its mean. Plot\n",
        "it on a histogram and comment on its distribution."
      ]
    },
    {
      "cell_type": "code",
      "metadata": {
        "id": "8TKObjSAtwCh",
        "outputId": "daae877a-6052-43eb-a520-7bce5c1aa2eb",
        "colab": {
          "base_uri": "https://localhost:8080/",
          "height": 283
        }
      },
      "source": [
        "mean = []\n",
        "\n",
        "for i in range(100):\n",
        "  \n",
        "  for x in range(0,1001,50):\n",
        "    \n",
        "    mean1 = data['damageDealt'].head(x).mean()\n",
        "    mean.append(mean1)\n",
        " \n",
        "sns.histplot(data=data['damageDealt'], x=mean)"
      ],
      "execution_count": null,
      "outputs": [
        {
          "output_type": "execute_result",
          "data": {
            "text/plain": [
              "<matplotlib.axes._subplots.AxesSubplot at 0x7f0419246cc0>"
            ]
          },
          "metadata": {
            "tags": []
          },
          "execution_count": 29
        },
        {
          "output_type": "display_data",
          "data": {
            "image/png": "[encoded data removed]",
            "text/plain": [
              "<Figure size 432x288 with 1 Axes>"
            ]
          },
          "metadata": {
            "tags": [],
            "needs_background": "light"
          }
        }
      ]
    }
  ]
}